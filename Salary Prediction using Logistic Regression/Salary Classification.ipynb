{
 "cells": [
  {
   "cell_type": "markdown",
   "metadata": {
    "colab_type": "text",
    "id": "fTfP5eU6Ur-M"
   },
   "source": [
    "# **MIE1624-Assignment 1-Junxi Xu**"
   ]
  },
  {
   "cell_type": "code",
   "execution_count": 0,
   "metadata": {
    "colab": {},
    "colab_type": "code",
    "id": "P522EO2AUqS_"
   },
   "outputs": [],
   "source": [
    "import numpy as np\n",
    "import pandas as pd\n",
    "import matplotlib.pyplot as plt\n",
    "import sklearn\n",
    "import seaborn as sns\n",
    "from sklearn.preprocessing import StandardScaler\n",
    "from sklearn.linear_model import LogisticRegression\n",
    "from sklearn.model_selection import train_test_split\n",
    "from sklearn.model_selection import KFold\n",
    "from sklearn.metrics import make_scorer, confusion_matrix\n",
    "from sklearn.model_selection import learning_curve\n",
    "from sklearn import linear_model"
   ]
  },
  {
   "cell_type": "markdown",
   "metadata": {
    "colab_type": "text",
    "id": "Kn0gArx7Dy44"
   },
   "source": [
    "# **1. Data Cleaning**"
   ]
  },
  {
   "cell_type": "markdown",
   "metadata": {
    "colab_type": "text",
    "id": "9RDiQPMHD4_X"
   },
   "source": [
    "##**(1). Dealing with Nan Values**"
   ]
  },
  {
   "cell_type": "markdown",
   "metadata": {
    "colab_type": "text",
    "id": "D9UirDUjD9QH"
   },
   "source": [
    "Target Variable (Q9) - Drop rows with missing target variables and outliers. (Remove all rows in Q9 with \"I do not wish to disclose my approximate yearly compensation\" which means salary is not disclosed. Also remove the rows witn \"500,000+\" because there are only very few respondents having over 500,000+ current yearly compensation and this value is diffucult to normalize (from 500,000 to infinity) during analysis. After removing these rows, we have clear insight on the yearly compensations for each respondent."
   ]
  },
  {
   "cell_type": "code",
   "execution_count": 0,
   "metadata": {
    "colab": {},
    "colab_type": "code",
    "id": "vsUuksY6D_X-"
   },
   "outputs": [],
   "source": [
    "Salaries = pd.read_csv(\"multipleChoiceResponses.csv\", low_memory = False)\n",
    "Salaries.dropna(subset=['Q9'],inplace=True)\n",
    "Salaries = Salaries[Salaries['Q9']!= \"I do not wish to disclose my approximate yearly compensation\"]\n",
    "Salaries = Salaries[Salaries['Q9']!= \"500,000+\"]"
   ]
  },
  {
   "cell_type": "markdown",
   "metadata": {
    "colab_type": "text",
    "id": "95wyTpEtEYbu"
   },
   "source": [
    "Remove columns with more than or equal to 70% missing values. If a column has more than 70% missing values, we can assume that this feature is invalid and useless for the prediction and for building the model."
   ]
  },
  {
   "cell_type": "code",
   "execution_count": 0,
   "metadata": {
    "colab": {},
    "colab_type": "code",
    "id": "y6Z6iDWUEaV-"
   },
   "outputs": [],
   "source": [
    "col_names = Salaries.columns"
   ]
  },
  {
   "cell_type": "code",
   "execution_count": 0,
   "metadata": {
    "colab": {},
    "colab_type": "code",
    "id": "8B1Eb7MmEcN8"
   },
   "outputs": [],
   "source": [
    "cutoff=0.3\n",
    "n = len(Salaries)\n",
    "for col_name in col_names:\n",
    "  cnt = Salaries[col_name].count()\n",
    "  if (cnt / n) <= cutoff:\n",
    "    Salaries.drop(col_name, axis=1, inplace=True)"
   ]
  },
  {
   "cell_type": "markdown",
   "metadata": {
    "colab_type": "text",
    "id": "wS034-PgEeJk"
   },
   "source": [
    "Remove the text columns. Remove columns with the name \"TEXT\" or \"OTHER\", these columns are filled with values -1, which are useless. They do not give actual information. After removing these columns, we still have a large number of features. Stage 5 will deal with these features."
   ]
  },
  {
   "cell_type": "code",
   "execution_count": 0,
   "metadata": {
    "colab": {},
    "colab_type": "code",
    "id": "-fr22-hkEe5s"
   },
   "outputs": [],
   "source": [
    "Salaries = Salaries[Salaries.columns.drop(list(Salaries.filter(regex='TEXT|OTHER')))] #Remove column with the name \"Text\" or \"Other\", these columns are filled with values -1, which are useless."
   ]
  },
  {
   "cell_type": "markdown",
   "metadata": {
    "colab_type": "text",
    "id": "eQAFcbQbEjPk"
   },
   "source": [
    "For those columns with less than 70% missing values, we can handle them by using different methods. For example, we can replace the Nan values with mean or mode, or completely remove the features with missing values (we remove the features with more than 70% missing values), or replace the Nan values with certain information (such as \"Other\"). Firstly, we look at which columns have Nan values by using the following code."
   ]
  },
  {
   "cell_type": "code",
   "execution_count": 74,
   "metadata": {
    "colab": {
     "base_uri": "https://localhost:8080/",
     "height": 1000
    },
    "colab_type": "code",
    "id": "j7S-Y5CTElUk",
    "outputId": "ac947541-ade4-47e7-9033-b76e345c54f8"
   },
   "outputs": [
    {
     "data": {
      "text/html": [
       "<div>\n",
       "<style scoped>\n",
       "    .dataframe tbody tr th:only-of-type {\n",
       "        vertical-align: middle;\n",
       "    }\n",
       "\n",
       "    .dataframe tbody tr th {\n",
       "        vertical-align: top;\n",
       "    }\n",
       "\n",
       "    .dataframe thead th {\n",
       "        text-align: right;\n",
       "    }\n",
       "</style>\n",
       "<table border=\"1\" class=\"dataframe\">\n",
       "  <thead>\n",
       "    <tr style=\"text-align: right;\">\n",
       "      <th></th>\n",
       "      <th>Column_Name</th>\n",
       "      <th>Number_of_Nan</th>\n",
       "    </tr>\n",
       "  </thead>\n",
       "  <tbody>\n",
       "    <tr>\n",
       "      <th>0</th>\n",
       "      <td>Time from Start to Finish (seconds)</td>\n",
       "      <td>0</td>\n",
       "    </tr>\n",
       "    <tr>\n",
       "      <th>1</th>\n",
       "      <td>Q1</td>\n",
       "      <td>0</td>\n",
       "    </tr>\n",
       "    <tr>\n",
       "      <th>2</th>\n",
       "      <td>Q2</td>\n",
       "      <td>0</td>\n",
       "    </tr>\n",
       "    <tr>\n",
       "      <th>3</th>\n",
       "      <td>Q3</td>\n",
       "      <td>0</td>\n",
       "    </tr>\n",
       "    <tr>\n",
       "      <th>4</th>\n",
       "      <td>Q4</td>\n",
       "      <td>0</td>\n",
       "    </tr>\n",
       "    <tr>\n",
       "      <th>5</th>\n",
       "      <td>Q5</td>\n",
       "      <td>129</td>\n",
       "    </tr>\n",
       "    <tr>\n",
       "      <th>6</th>\n",
       "      <td>Q6</td>\n",
       "      <td>0</td>\n",
       "    </tr>\n",
       "    <tr>\n",
       "      <th>7</th>\n",
       "      <td>Q7</td>\n",
       "      <td>0</td>\n",
       "    </tr>\n",
       "    <tr>\n",
       "      <th>8</th>\n",
       "      <td>Q8</td>\n",
       "      <td>76</td>\n",
       "    </tr>\n",
       "    <tr>\n",
       "      <th>9</th>\n",
       "      <td>Q9</td>\n",
       "      <td>0</td>\n",
       "    </tr>\n",
       "    <tr>\n",
       "      <th>10</th>\n",
       "      <td>Q10</td>\n",
       "      <td>290</td>\n",
       "    </tr>\n",
       "    <tr>\n",
       "      <th>11</th>\n",
       "      <td>Q11_Part_1</td>\n",
       "      <td>7936</td>\n",
       "    </tr>\n",
       "    <tr>\n",
       "      <th>12</th>\n",
       "      <td>Q11_Part_4</td>\n",
       "      <td>9666</td>\n",
       "    </tr>\n",
       "    <tr>\n",
       "      <th>13</th>\n",
       "      <td>Q12_MULTIPLE_CHOICE</td>\n",
       "      <td>1557</td>\n",
       "    </tr>\n",
       "    <tr>\n",
       "      <th>14</th>\n",
       "      <td>Q13_Part_1</td>\n",
       "      <td>5147</td>\n",
       "    </tr>\n",
       "    <tr>\n",
       "      <th>15</th>\n",
       "      <td>Q13_Part_2</td>\n",
       "      <td>9026</td>\n",
       "    </tr>\n",
       "    <tr>\n",
       "      <th>16</th>\n",
       "      <td>Q13_Part_3</td>\n",
       "      <td>10191</td>\n",
       "    </tr>\n",
       "    <tr>\n",
       "      <th>17</th>\n",
       "      <td>Q13_Part_9</td>\n",
       "      <td>9697</td>\n",
       "    </tr>\n",
       "    <tr>\n",
       "      <th>18</th>\n",
       "      <td>Q14_Part_10</td>\n",
       "      <td>9892</td>\n",
       "    </tr>\n",
       "    <tr>\n",
       "      <th>19</th>\n",
       "      <td>Q15_Part_2</td>\n",
       "      <td>9536</td>\n",
       "    </tr>\n",
       "    <tr>\n",
       "      <th>20</th>\n",
       "      <td>Q15_Part_6</td>\n",
       "      <td>10622</td>\n",
       "    </tr>\n",
       "    <tr>\n",
       "      <th>21</th>\n",
       "      <td>Q16_Part_1</td>\n",
       "      <td>4050</td>\n",
       "    </tr>\n",
       "    <tr>\n",
       "      <th>22</th>\n",
       "      <td>Q16_Part_2</td>\n",
       "      <td>10401</td>\n",
       "    </tr>\n",
       "    <tr>\n",
       "      <th>23</th>\n",
       "      <td>Q16_Part_3</td>\n",
       "      <td>9170</td>\n",
       "    </tr>\n",
       "    <tr>\n",
       "      <th>24</th>\n",
       "      <td>Q17</td>\n",
       "      <td>4311</td>\n",
       "    </tr>\n",
       "    <tr>\n",
       "      <th>25</th>\n",
       "      <td>Q18</td>\n",
       "      <td>1801</td>\n",
       "    </tr>\n",
       "    <tr>\n",
       "      <th>26</th>\n",
       "      <td>Q19_Part_1</td>\n",
       "      <td>6317</td>\n",
       "    </tr>\n",
       "    <tr>\n",
       "      <th>27</th>\n",
       "      <td>Q19_Part_2</td>\n",
       "      <td>8039</td>\n",
       "    </tr>\n",
       "    <tr>\n",
       "      <th>28</th>\n",
       "      <td>Q19_Part_3</td>\n",
       "      <td>9326</td>\n",
       "    </tr>\n",
       "    <tr>\n",
       "      <th>29</th>\n",
       "      <td>Q20</td>\n",
       "      <td>5738</td>\n",
       "    </tr>\n",
       "    <tr>\n",
       "      <th>30</th>\n",
       "      <td>Q21_Part_1</td>\n",
       "      <td>9493</td>\n",
       "    </tr>\n",
       "    <tr>\n",
       "      <th>31</th>\n",
       "      <td>Q21_Part_2</td>\n",
       "      <td>5634</td>\n",
       "    </tr>\n",
       "    <tr>\n",
       "      <th>32</th>\n",
       "      <td>Q21_Part_8</td>\n",
       "      <td>9526</td>\n",
       "    </tr>\n",
       "    <tr>\n",
       "      <th>33</th>\n",
       "      <td>Q22</td>\n",
       "      <td>6208</td>\n",
       "    </tr>\n",
       "    <tr>\n",
       "      <th>34</th>\n",
       "      <td>Q23</td>\n",
       "      <td>1944</td>\n",
       "    </tr>\n",
       "    <tr>\n",
       "      <th>35</th>\n",
       "      <td>Q24</td>\n",
       "      <td>1964</td>\n",
       "    </tr>\n",
       "    <tr>\n",
       "      <th>36</th>\n",
       "      <td>Q25</td>\n",
       "      <td>1989</td>\n",
       "    </tr>\n",
       "    <tr>\n",
       "      <th>37</th>\n",
       "      <td>Q26</td>\n",
       "      <td>1998</td>\n",
       "    </tr>\n",
       "    <tr>\n",
       "      <th>38</th>\n",
       "      <td>Q29_Part_10</td>\n",
       "      <td>10534</td>\n",
       "    </tr>\n",
       "    <tr>\n",
       "      <th>39</th>\n",
       "      <td>Q31_Part_2</td>\n",
       "      <td>9220</td>\n",
       "    </tr>\n",
       "    <tr>\n",
       "      <th>40</th>\n",
       "      <td>Q31_Part_6</td>\n",
       "      <td>7189</td>\n",
       "    </tr>\n",
       "    <tr>\n",
       "      <th>41</th>\n",
       "      <td>Q31_Part_8</td>\n",
       "      <td>9742</td>\n",
       "    </tr>\n",
       "    <tr>\n",
       "      <th>42</th>\n",
       "      <td>Q31_Part_9</td>\n",
       "      <td>8934</td>\n",
       "    </tr>\n",
       "    <tr>\n",
       "      <th>43</th>\n",
       "      <td>Q31_Part_10</td>\n",
       "      <td>9409</td>\n",
       "    </tr>\n",
       "    <tr>\n",
       "      <th>44</th>\n",
       "      <td>Q32</td>\n",
       "      <td>5088</td>\n",
       "    </tr>\n",
       "    <tr>\n",
       "      <th>45</th>\n",
       "      <td>Q33_Part_4</td>\n",
       "      <td>9520</td>\n",
       "    </tr>\n",
       "    <tr>\n",
       "      <th>46</th>\n",
       "      <td>Q33_Part_7</td>\n",
       "      <td>10245</td>\n",
       "    </tr>\n",
       "    <tr>\n",
       "      <th>47</th>\n",
       "      <td>Q34_Part_1</td>\n",
       "      <td>3633</td>\n",
       "    </tr>\n",
       "    <tr>\n",
       "      <th>48</th>\n",
       "      <td>Q34_Part_2</td>\n",
       "      <td>3633</td>\n",
       "    </tr>\n",
       "    <tr>\n",
       "      <th>49</th>\n",
       "      <td>Q34_Part_3</td>\n",
       "      <td>3633</td>\n",
       "    </tr>\n",
       "    <tr>\n",
       "      <th>50</th>\n",
       "      <td>Q34_Part_4</td>\n",
       "      <td>3633</td>\n",
       "    </tr>\n",
       "    <tr>\n",
       "      <th>51</th>\n",
       "      <td>Q34_Part_5</td>\n",
       "      <td>3633</td>\n",
       "    </tr>\n",
       "    <tr>\n",
       "      <th>52</th>\n",
       "      <td>Q34_Part_6</td>\n",
       "      <td>3633</td>\n",
       "    </tr>\n",
       "    <tr>\n",
       "      <th>53</th>\n",
       "      <td>Q35_Part_1</td>\n",
       "      <td>3754</td>\n",
       "    </tr>\n",
       "    <tr>\n",
       "      <th>54</th>\n",
       "      <td>Q35_Part_2</td>\n",
       "      <td>3754</td>\n",
       "    </tr>\n",
       "    <tr>\n",
       "      <th>55</th>\n",
       "      <td>Q35_Part_3</td>\n",
       "      <td>3754</td>\n",
       "    </tr>\n",
       "    <tr>\n",
       "      <th>56</th>\n",
       "      <td>Q35_Part_4</td>\n",
       "      <td>3754</td>\n",
       "    </tr>\n",
       "    <tr>\n",
       "      <th>57</th>\n",
       "      <td>Q35_Part_5</td>\n",
       "      <td>3754</td>\n",
       "    </tr>\n",
       "    <tr>\n",
       "      <th>58</th>\n",
       "      <td>Q35_Part_6</td>\n",
       "      <td>3754</td>\n",
       "    </tr>\n",
       "    <tr>\n",
       "      <th>59</th>\n",
       "      <td>Q36_Part_2</td>\n",
       "      <td>8490</td>\n",
       "    </tr>\n",
       "    <tr>\n",
       "      <th>60</th>\n",
       "      <td>Q37</td>\n",
       "      <td>8100</td>\n",
       "    </tr>\n",
       "    <tr>\n",
       "      <th>61</th>\n",
       "      <td>Q39_Part_1</td>\n",
       "      <td>3669</td>\n",
       "    </tr>\n",
       "    <tr>\n",
       "      <th>62</th>\n",
       "      <td>Q39_Part_2</td>\n",
       "      <td>3669</td>\n",
       "    </tr>\n",
       "    <tr>\n",
       "      <th>63</th>\n",
       "      <td>Q40</td>\n",
       "      <td>3733</td>\n",
       "    </tr>\n",
       "    <tr>\n",
       "      <th>64</th>\n",
       "      <td>Q41_Part_1</td>\n",
       "      <td>4320</td>\n",
       "    </tr>\n",
       "    <tr>\n",
       "      <th>65</th>\n",
       "      <td>Q41_Part_2</td>\n",
       "      <td>4320</td>\n",
       "    </tr>\n",
       "    <tr>\n",
       "      <th>66</th>\n",
       "      <td>Q41_Part_3</td>\n",
       "      <td>4320</td>\n",
       "    </tr>\n",
       "    <tr>\n",
       "      <th>67</th>\n",
       "      <td>Q42_Part_2</td>\n",
       "      <td>8904</td>\n",
       "    </tr>\n",
       "    <tr>\n",
       "      <th>68</th>\n",
       "      <td>Q43</td>\n",
       "      <td>5540</td>\n",
       "    </tr>\n",
       "    <tr>\n",
       "      <th>69</th>\n",
       "      <td>Q46</td>\n",
       "      <td>5395</td>\n",
       "    </tr>\n",
       "    <tr>\n",
       "      <th>70</th>\n",
       "      <td>Q47_Part_3</td>\n",
       "      <td>10669</td>\n",
       "    </tr>\n",
       "    <tr>\n",
       "      <th>71</th>\n",
       "      <td>Q47_Part_8</td>\n",
       "      <td>9542</td>\n",
       "    </tr>\n",
       "    <tr>\n",
       "      <th>72</th>\n",
       "      <td>Q48</td>\n",
       "      <td>5379</td>\n",
       "    </tr>\n",
       "    <tr>\n",
       "      <th>73</th>\n",
       "      <td>Q49_Part_6</td>\n",
       "      <td>9124</td>\n",
       "    </tr>\n",
       "    <tr>\n",
       "      <th>74</th>\n",
       "      <td>Q49_Part_7</td>\n",
       "      <td>9337</td>\n",
       "    </tr>\n",
       "    <tr>\n",
       "      <th>75</th>\n",
       "      <td>Q50_Part_2</td>\n",
       "      <td>10283</td>\n",
       "    </tr>\n",
       "  </tbody>\n",
       "</table>\n",
       "</div>"
      ],
      "text/plain": [
       "                            Column_Name  Number_of_Nan\n",
       "0   Time from Start to Finish (seconds)              0\n",
       "1                                    Q1              0\n",
       "2                                    Q2              0\n",
       "3                                    Q3              0\n",
       "4                                    Q4              0\n",
       "5                                    Q5            129\n",
       "6                                    Q6              0\n",
       "7                                    Q7              0\n",
       "8                                    Q8             76\n",
       "9                                    Q9              0\n",
       "10                                  Q10            290\n",
       "11                           Q11_Part_1           7936\n",
       "12                           Q11_Part_4           9666\n",
       "13                  Q12_MULTIPLE_CHOICE           1557\n",
       "14                           Q13_Part_1           5147\n",
       "15                           Q13_Part_2           9026\n",
       "16                           Q13_Part_3          10191\n",
       "17                           Q13_Part_9           9697\n",
       "18                          Q14_Part_10           9892\n",
       "19                           Q15_Part_2           9536\n",
       "20                           Q15_Part_6          10622\n",
       "21                           Q16_Part_1           4050\n",
       "22                           Q16_Part_2          10401\n",
       "23                           Q16_Part_3           9170\n",
       "24                                  Q17           4311\n",
       "25                                  Q18           1801\n",
       "26                           Q19_Part_1           6317\n",
       "27                           Q19_Part_2           8039\n",
       "28                           Q19_Part_3           9326\n",
       "29                                  Q20           5738\n",
       "30                           Q21_Part_1           9493\n",
       "31                           Q21_Part_2           5634\n",
       "32                           Q21_Part_8           9526\n",
       "33                                  Q22           6208\n",
       "34                                  Q23           1944\n",
       "35                                  Q24           1964\n",
       "36                                  Q25           1989\n",
       "37                                  Q26           1998\n",
       "38                          Q29_Part_10          10534\n",
       "39                           Q31_Part_2           9220\n",
       "40                           Q31_Part_6           7189\n",
       "41                           Q31_Part_8           9742\n",
       "42                           Q31_Part_9           8934\n",
       "43                          Q31_Part_10           9409\n",
       "44                                  Q32           5088\n",
       "45                           Q33_Part_4           9520\n",
       "46                           Q33_Part_7          10245\n",
       "47                           Q34_Part_1           3633\n",
       "48                           Q34_Part_2           3633\n",
       "49                           Q34_Part_3           3633\n",
       "50                           Q34_Part_4           3633\n",
       "51                           Q34_Part_5           3633\n",
       "52                           Q34_Part_6           3633\n",
       "53                           Q35_Part_1           3754\n",
       "54                           Q35_Part_2           3754\n",
       "55                           Q35_Part_3           3754\n",
       "56                           Q35_Part_4           3754\n",
       "57                           Q35_Part_5           3754\n",
       "58                           Q35_Part_6           3754\n",
       "59                           Q36_Part_2           8490\n",
       "60                                  Q37           8100\n",
       "61                           Q39_Part_1           3669\n",
       "62                           Q39_Part_2           3669\n",
       "63                                  Q40           3733\n",
       "64                           Q41_Part_1           4320\n",
       "65                           Q41_Part_2           4320\n",
       "66                           Q41_Part_3           4320\n",
       "67                           Q42_Part_2           8904\n",
       "68                                  Q43           5540\n",
       "69                                  Q46           5395\n",
       "70                           Q47_Part_3          10669\n",
       "71                           Q47_Part_8           9542\n",
       "72                                  Q48           5379\n",
       "73                           Q49_Part_6           9124\n",
       "74                           Q49_Part_7           9337\n",
       "75                           Q50_Part_2          10283"
      ]
     },
     "execution_count": 74,
     "metadata": {
      "tags": []
     },
     "output_type": "execute_result"
    }
   ],
   "source": [
    "Salaries = Salaries.drop(Salaries.index[0]) #Remove first row, which is the question text.\n",
    "a = Salaries.columns.tolist() ##show all the column names\n",
    "b = Salaries.isnull().sum(axis=0).tolist() ##show how many Nan values in each column\n",
    "pd.options.display.max_rows = None\n",
    "pd.DataFrame({'Column_Name': a, 'Number_of_Nan':b})"
   ]
  },
  {
   "cell_type": "markdown",
   "metadata": {
    "colab_type": "text",
    "id": "XlKJ1JN2ErF0"
   },
   "source": [
    "Q8 - How many years of experience do you have in your current role? Some values are misisng because this question asks for years of experience. If the respondent is a student, he or she might not fill in this question. Therefore, we can look at Q7 and see how many missing values from Q8 are generated by students. "
   ]
  },
  {
   "cell_type": "code",
   "execution_count": 75,
   "metadata": {
    "colab": {
     "base_uri": "https://localhost:8080/",
     "height": 34
    },
    "colab_type": "code",
    "id": "LJDMROEMEs7c",
    "outputId": "ae039243-2817-472f-9bc5-c26ea0481256"
   },
   "outputs": [
    {
     "data": {
      "text/plain": [
       "0.7631578947368421"
      ]
     },
     "execution_count": 75,
     "metadata": {
      "tags": []
     },
     "output_type": "execute_result"
    }
   ],
   "source": [
    "S8 = Salaries[(Salaries['Q8'].isnull())]\n",
    "len(S8[S8['Q7'] == 'I am a student'])/len(S8) #We can see that 76% of missing values in Q8 corresponds to respondents who are students."
   ]
  },
  {
   "cell_type": "markdown",
   "metadata": {
    "colab_type": "text",
    "id": "0cYTlE48bFYo"
   },
   "source": [
    "We can see that 76% of the missing values in Q8 are generated by students. Students usually have 0-1 year experience. So we replace the Nan values with 0-1"
   ]
  },
  {
   "cell_type": "markdown",
   "metadata": {
    "colab_type": "text",
    "id": "OgSMNb-tEwFE"
   },
   "source": [
    "Q23 - Approximately what percent of your time at work or school is spent actively coding?\n",
    "Q24 - How long have you been writing code to analyze data?\n",
    "Q25 - For how many years have you used machine learning methods (at work or in school)?\n",
    "Q43 - Approximately what percent of your data projects involved exploring unfair bias in the dataset and/or algorithm?\n",
    "Q46 - Approximately what percent of your data projects involve exploring model insights?\n",
    "These questions ask for percentage of time or years in using machien learning and data analytics, and also percentage of projects relevent in data science. We can simply see that although the questions ask for information related to experience, the mising values are not generated by students. These missing values may be geneated just because the respondents do not want to answer, or simply ignore the questions. In this case, we can use the mode to replace the Nan values."
   ]
  },
  {
   "cell_type": "code",
   "execution_count": 76,
   "metadata": {
    "colab": {
     "base_uri": "https://localhost:8080/",
     "height": 51
    },
    "colab_type": "code",
    "id": "y6LexXs0b17A",
    "outputId": "2c1c99df-6b61-4b39-925c-48d3da124c64"
   },
   "outputs": [
    {
     "name": "stdout",
     "output_type": "stream",
     "text": [
      "0.26425661914460286\n",
      "0.2629462041226747\n"
     ]
    }
   ],
   "source": [
    "S24 = Salaries[(Salaries['Q24'].isnull())]\n",
    "print(len(S24[S24['Q7'] == 'I am a student'])/len(S24))\n",
    "S25 = Salaries[(Salaries['Q25'].isnull())]\n",
    "print(len(S25[S25['Q7'] == 'I am a student'])/len(S25))"
   ]
  },
  {
   "cell_type": "code",
   "execution_count": 77,
   "metadata": {
    "colab": {
     "base_uri": "https://localhost:8080/",
     "height": 187
    },
    "colab_type": "code",
    "id": "YUgrdROgEyuU",
    "outputId": "ab06d3e7-224b-4ac0-a60c-386529392d64"
   },
   "outputs": [
    {
     "name": "stdout",
     "output_type": "stream",
     "text": [
      "0    50% to 74% of my time\n",
      "dtype: object\n",
      "0    1-2 years\n",
      "dtype: object\n",
      "0    < 1 year\n",
      "dtype: object\n",
      "0    0\n",
      "dtype: object\n",
      "0    10-20\n",
      "dtype: object\n"
     ]
    }
   ],
   "source": [
    "print(Salaries.Q23.mode()) #The most frequent value in Q23 is \"50% to 74% of my time\"\n",
    "print(Salaries.Q24.mode()) #The most frequent value in Q24 is \"1-2 years\"\n",
    "print(Salaries.Q25.mode()) #The most frequent value in Q25 is \"< 1 year\"\n",
    "print(Salaries.Q43.mode()) #The most frequent value in Q43 is \"0\"\n",
    "print(Salaries.Q46.mode()) #The most frequent value in Q46 is \"10-20\""
   ]
  },
  {
   "cell_type": "markdown",
   "metadata": {
    "colab_type": "text",
    "id": "qeGRohAteIF-"
   },
   "source": [
    "We get the mode for these questions and replace the missing values with the most frequent values. In other word, we treat these repondents as the most common respondents."
   ]
  },
  {
   "cell_type": "markdown",
   "metadata": {
    "colab_type": "text",
    "id": "RLYjU4qhE2T0"
   },
   "source": [
    "For Q5, Q12_MULTIPLE_CHOICE, Q17, Q18, Q20, Q22, Q37, the missing values may be generated because the respondents cannot find a category that matches his/her background. Therefore, we assign the Nan values with \"Other\".\n",
    "\n",
    "For Q10, the missing values may be generated because the respondents do not know the answers. Therefore, we assign the Nan values with \"I do not know\".\n",
    "\n",
    "For Q32, the missing values may be generated because the respondents cannot find a type of data from the list. ThereforeWe assign the Nan values with \"Other Data\".\n",
    "\n",
    "For Q39_Part_1, Q39_Part_2, Q40, Q41_Part_1, Q41_Part_2, Q41_Part_3, the missing values may be generated because the respondents do not know the answers. Therefore, we assign the Nan values with \"No opinion; I do not know\".\n",
    "\n",
    "For Q48,the missing values may be generated because the respondents do not know the answers. Therefore, we assign the Nan values with \"I do not know; I have no opinion on the matter\".\n",
    "\n",
    "Now the above features do not have missing values so we might consider using these features but we still have to see the importance of them."
   ]
  },
  {
   "cell_type": "code",
   "execution_count": 0,
   "metadata": {
    "colab": {},
    "colab_type": "code",
    "id": "Ot0RE_k0E4RM"
   },
   "outputs": [],
   "source": [
    "Salaries[\"Q5\"].fillna(\"Other\", inplace = True)  #Assign Nan values with \"Other\"\n",
    "Salaries[\"Q8\"].fillna(\"0-1\", inplace = True)  #Assign Nan values with \"0-1\". Because most of the missing data from the column are generated by respondents who are students. Students usually have 0-1 year experience.\n",
    "Salaries[\"Q10\"].fillna(\"I do not know\", inplace = True)  #Assign Nan values with \"I do not know\"\n",
    "Salaries[\"Q12_MULTIPLE_CHOICE\"].fillna(\"Other\", inplace = True)  #Assign Nan values with \"Other\"\n",
    "Salaries[\"Q17\"].fillna(\"Other\", inplace = True)  #Assign Nan values with \"Other\"\n",
    "Salaries[\"Q18\"].fillna(\"Other\", inplace = True)  #Assign Nan values with \"Other\"\n",
    "Salaries[\"Q20\"].fillna(\"Other\", inplace = True)  #Assign Nan values with \"Other\"\n",
    "Salaries[\"Q22\"].fillna(\"Other\", inplace = True)  #Assign Nan values with \"Other\"\n",
    "Salaries[\"Q23\"].fillna(\"50% to 74% of my time\", inplace = True)  #Assign Nan values with \"50% to 74% of my time\". This is the most frequent value in this column.\n",
    "Salaries[\"Q24\"].fillna(\"1-2 years\", inplace = True)  #Assign Nan values with \"1-2 years\". This is the most frequent value in this column.\n",
    "Salaries[\"Q25\"].fillna(\"< 1 year\", inplace = True)  #Assign Nan values with \"< 1 year\". This is the most frequent value in this column.\n",
    "Salaries[\"Q32\"].fillna(\"Other Data\", inplace = True)  #Assign Nan values with \"Other Data\"\n",
    "Salaries[\"Q37\"].fillna(\"Other\", inplace = True)  #Assign Nan values with \"Other\"\n",
    "Salaries[\"Q39_Part_1\"].fillna(\"No opinion; I do not know\", inplace = True)  #Assign Nan values with \"No opinion; I do not know\"\n",
    "Salaries[\"Q39_Part_2\"].fillna(\"No opinion; I do not know\", inplace = True)  #Assign Nan values with \"No opinion; I do not know\"\n",
    "Salaries[\"Q40\"].fillna(\"No opinion; I do not know\", inplace = True)  #Assign Nan values with \"No opinion; I do not know\"\n",
    "Salaries[\"Q41_Part_1\"].fillna(\"No opinion; I do not know\", inplace = True)  #Assign Nan values with \"No opinion; I do not know\"\n",
    "Salaries[\"Q41_Part_2\"].fillna(\"No opinion; I do not know\", inplace = True)  #Assign Nan values with \"No opinion; I do not know\"\n",
    "Salaries[\"Q41_Part_3\"].fillna(\"No opinion; I do not know\", inplace = True)  #Assign Nan values with \"No opinion; I do not know\"\n",
    "Salaries[\"Q43\"].fillna(\"0\", inplace = True)  #Assign Nan values with \"0\"\n",
    "Salaries[\"Q46\"].fillna(\"10-20\", inplace = True)  #Assign Nan values with \"10-20\"\n",
    "Salaries[\"Q48\"].fillna(\"I do not know; I have no opinion on the matter\", inplace = True)  #Assign Nan values with \"I do not know; I have no opinion on the matter\""
   ]
  },
  {
   "cell_type": "markdown",
   "metadata": {
    "colab_type": "text",
    "id": "YGy1eURGFI5C"
   },
   "source": [
    "## **(2).Convert categorical data into numerical data by encoding.**\n",
    "Binary encoding, for all the features with only one selected choice, there is only one answer, or no answer (Nan values). For questions such as Q11, Q13, Q14, Q15, Q16, Q19, Q21, Q29, Q31, Q33, Q36, Q42, Q47, Q49, Q50, we can use binary encoding. We assign 0 to those missing values (the respondents do not answer) and assign 1 to the existing values (the respondents answer the questions). Because there are only \"answer\" or \"not answer\", and the answers are the same, so we use binary encoding."
   ]
  },
  {
   "cell_type": "code",
   "execution_count": 0,
   "metadata": {
    "colab": {},
    "colab_type": "code",
    "id": "UveOp8WvFjFx"
   },
   "outputs": [],
   "source": [
    "Q11_cols = Salaries.loc[:,Salaries.columns.str.contains(\"Q11\")]  #[col for col in Salaries.columns if 'Q11' in col]\n",
    "for col in Q11_cols:\n",
    "  Salaries.at[Salaries[col].notnull(),col] = 1  # not nan\n",
    "  Salaries.at[Salaries[col].isnull(),col] = 0  # nan\n",
    "\n",
    "Q13_cols = Salaries.loc[:,Salaries.columns.str.contains(\"Q13\")]  #[col for col in Salaries.columns if 'Q13' in col]\n",
    "for col in Q13_cols:\n",
    "  Salaries.at[Salaries[col].notnull(),col] = 1  # not nan\n",
    "  Salaries.at[Salaries[col].isnull(),col] = 0  # nan\n",
    "\n",
    "Q14_cols = Salaries.loc[:,Salaries.columns.str.contains(\"Q14\")]  #[col for col in Salaries.columns if 'Q14' in col]\n",
    "for col in Q14_cols:\n",
    "  Salaries.at[Salaries[col].notnull(),col] = 1  # not nan\n",
    "  Salaries.at[Salaries[col].isnull(),col] = 0  # nan\n",
    "\n",
    "Q15_cols = Salaries.loc[:,Salaries.columns.str.contains(\"Q15\")]  #[col for col in Salaries.columns if 'Q15' in col]\n",
    "for col in Q15_cols:\n",
    "  Salaries.at[Salaries[col].notnull(),col] = 1  # not nan\n",
    "  Salaries.at[Salaries[col].isnull(),col] = 0  # nan\n",
    "\n",
    "Q16_cols = Salaries.loc[:,Salaries.columns.str.contains(\"Q16\")]  #[col for col in Salaries.columns if 'Q16' in col]\n",
    "for col in Q16_cols:\n",
    "  Salaries.at[Salaries[col].notnull(),col] = 1  # not nan\n",
    "  Salaries.at[Salaries[col].isnull(),col] = 0  # nan\n",
    "\n",
    "Q19_cols = Salaries.loc[:,Salaries.columns.str.contains(\"Q19\")]  #[col for col in Salaries.columns if 'Q19' in col]\n",
    "for col in Q19_cols:\n",
    "  Salaries.at[Salaries[col].notnull(),col] = 1  # not nan\n",
    "  Salaries.at[Salaries[col].isnull(),col] = 0  # nan\n",
    "\n",
    "Q21_cols = Salaries.loc[:,Salaries.columns.str.contains(\"Q21\")]  #[col for col in Salaries.columns if 'Q21' in col]\n",
    "for col in Q21_cols:\n",
    "  Salaries.at[Salaries[col].notnull(),col] = 1  # not nan\n",
    "  Salaries.at[Salaries[col].isnull(),col] = 0  # nan\n",
    "\n",
    "Q29_cols = Salaries.loc[:,Salaries.columns.str.contains(\"Q29\")]  #[col for col in Salaries.columns if 'Q29' in col]\n",
    "for col in Q29_cols:\n",
    "  Salaries.at[Salaries[col].notnull(),col] = 1  # not nan\n",
    "  Salaries.at[Salaries[col].isnull(),col] = 0  # nan\n",
    "\n",
    "Q31_cols = Salaries.loc[:,Salaries.columns.str.contains(\"Q31\")]  #[col for col in Salaries.columns if 'Q31' in col]\n",
    "for col in Q31_cols:\n",
    "  Salaries.at[Salaries[col].notnull(),col] = 1  # not nan\n",
    "  Salaries.at[Salaries[col].isnull(),col] = 0  # nan\n",
    "\n",
    "Q33_cols = Salaries.loc[:,Salaries.columns.str.contains(\"Q33\")]  #[col for col in Salaries.columns if 'Q33' in col]\n",
    "for col in Q33_cols:\n",
    "  Salaries.at[Salaries[col].notnull(),col] = 1  # not nan\n",
    "  Salaries.at[Salaries[col].isnull(),col] = 0  # nan\n",
    "\n",
    "Q36_cols = Salaries.loc[:,Salaries.columns.str.contains(\"Q36\")]  #[col for col in Salaries.columns if 'Q36' in col]\n",
    "for col in Q36_cols:\n",
    "  Salaries.at[Salaries[col].notnull(),col] = 1  # not nan\n",
    "  Salaries.at[Salaries[col].isnull(),col] = 0  # nan\n",
    "\n",
    "Q42_cols = Salaries.loc[:,Salaries.columns.str.contains(\"Q42\")]  #[col for col in Salaries.columns if 'Q42' in col]\n",
    "for col in Q42_cols:\n",
    "  Salaries.at[Salaries[col].notnull(),col] = 1  # not nan\n",
    "  Salaries.at[Salaries[col].isnull(),col] = 0  # nan\n",
    "\n",
    "Q47_cols = Salaries.loc[:,Salaries.columns.str.contains(\"Q47\")]  #[col for col in Salaries.columns if 'Q47' in col]\n",
    "for col in Q47_cols:\n",
    "  Salaries.at[Salaries[col].notnull(),col] = 1  # not nan\n",
    "  Salaries.at[Salaries[col].isnull(),col] = 0  # nan\n",
    "\n",
    "Q49_cols = Salaries.loc[:,Salaries.columns.str.contains(\"Q49\")]  #[col for col in Salaries.columns if 'Q49' in col]\n",
    "for col in Q49_cols:\n",
    "  Salaries.at[Salaries[col].notnull(),col] = 1  # not nan\n",
    "  Salaries.at[Salaries[col].isnull(),col] = 0  # nan\n",
    "\n",
    "Q50_cols = Salaries.loc[:,Salaries.columns.str.contains(\"Q50\")]  #[col for col in Salaries.columns if 'Q50' in col]\n",
    "for col in Q50_cols:\n",
    "  Salaries.at[Salaries[col].notnull(),col] = 1  # not nan\n",
    "  Salaries.at[Salaries[col].isnull(),col] = 0  # nan"
   ]
  },
  {
   "cell_type": "code",
   "execution_count": 80,
   "metadata": {
    "colab": {
     "base_uri": "https://localhost:8080/",
     "height": 751
    },
    "colab_type": "code",
    "id": "MqouPexhIpOR",
    "outputId": "cfbad11d-4e34-47a5-ea9e-4c2d8b373290"
   },
   "outputs": [
    {
     "data": {
      "text/html": [
       "<div>\n",
       "<style scoped>\n",
       "    .dataframe tbody tr th:only-of-type {\n",
       "        vertical-align: middle;\n",
       "    }\n",
       "\n",
       "    .dataframe tbody tr th {\n",
       "        vertical-align: top;\n",
       "    }\n",
       "\n",
       "    .dataframe thead th {\n",
       "        text-align: right;\n",
       "    }\n",
       "</style>\n",
       "<table border=\"1\" class=\"dataframe\">\n",
       "  <thead>\n",
       "    <tr style=\"text-align: right;\">\n",
       "      <th></th>\n",
       "      <th>Time from Start to Finish (seconds)</th>\n",
       "      <th>Q1</th>\n",
       "      <th>Q2</th>\n",
       "      <th>Q3</th>\n",
       "      <th>Q4</th>\n",
       "      <th>Q5</th>\n",
       "      <th>Q6</th>\n",
       "      <th>Q7</th>\n",
       "      <th>Q8</th>\n",
       "      <th>Q9</th>\n",
       "      <th>Q10</th>\n",
       "      <th>Q11_Part_1</th>\n",
       "      <th>Q11_Part_4</th>\n",
       "      <th>Q12_MULTIPLE_CHOICE</th>\n",
       "      <th>Q13_Part_1</th>\n",
       "      <th>Q13_Part_2</th>\n",
       "      <th>Q13_Part_3</th>\n",
       "      <th>Q13_Part_9</th>\n",
       "      <th>Q14_Part_10</th>\n",
       "      <th>Q15_Part_2</th>\n",
       "      <th>Q15_Part_6</th>\n",
       "      <th>Q16_Part_1</th>\n",
       "      <th>Q16_Part_2</th>\n",
       "      <th>Q16_Part_3</th>\n",
       "      <th>Q17</th>\n",
       "      <th>Q18</th>\n",
       "      <th>Q19_Part_1</th>\n",
       "      <th>Q19_Part_2</th>\n",
       "      <th>Q19_Part_3</th>\n",
       "      <th>Q20</th>\n",
       "      <th>Q21_Part_1</th>\n",
       "      <th>Q21_Part_2</th>\n",
       "      <th>Q21_Part_8</th>\n",
       "      <th>Q22</th>\n",
       "      <th>Q23</th>\n",
       "      <th>Q24</th>\n",
       "      <th>Q25</th>\n",
       "      <th>Q26</th>\n",
       "      <th>Q29_Part_10</th>\n",
       "      <th>Q31_Part_2</th>\n",
       "      <th>Q31_Part_6</th>\n",
       "      <th>Q31_Part_8</th>\n",
       "      <th>Q31_Part_9</th>\n",
       "      <th>Q31_Part_10</th>\n",
       "      <th>Q32</th>\n",
       "      <th>Q33_Part_4</th>\n",
       "      <th>Q33_Part_7</th>\n",
       "      <th>Q34_Part_1</th>\n",
       "      <th>Q34_Part_2</th>\n",
       "      <th>Q34_Part_3</th>\n",
       "      <th>Q34_Part_4</th>\n",
       "      <th>Q34_Part_5</th>\n",
       "      <th>Q34_Part_6</th>\n",
       "      <th>Q35_Part_1</th>\n",
       "      <th>Q35_Part_2</th>\n",
       "      <th>Q35_Part_3</th>\n",
       "      <th>Q35_Part_4</th>\n",
       "      <th>Q35_Part_5</th>\n",
       "      <th>Q35_Part_6</th>\n",
       "      <th>Q36_Part_2</th>\n",
       "      <th>Q37</th>\n",
       "      <th>Q39_Part_1</th>\n",
       "      <th>Q39_Part_2</th>\n",
       "      <th>Q40</th>\n",
       "      <th>Q41_Part_1</th>\n",
       "      <th>Q41_Part_2</th>\n",
       "      <th>Q41_Part_3</th>\n",
       "      <th>Q42_Part_2</th>\n",
       "      <th>Q43</th>\n",
       "      <th>Q46</th>\n",
       "      <th>Q47_Part_3</th>\n",
       "      <th>Q47_Part_8</th>\n",
       "      <th>Q48</th>\n",
       "      <th>Q49_Part_6</th>\n",
       "      <th>Q49_Part_7</th>\n",
       "      <th>Q50_Part_2</th>\n",
       "    </tr>\n",
       "  </thead>\n",
       "  <tbody>\n",
       "    <tr>\n",
       "      <th>2</th>\n",
       "      <td>434</td>\n",
       "      <td>Male</td>\n",
       "      <td>30-34</td>\n",
       "      <td>Indonesia</td>\n",
       "      <td>Bachelor’s degree</td>\n",
       "      <td>Engineering (non-computer focused)</td>\n",
       "      <td>Other</td>\n",
       "      <td>Manufacturing/Fabrication</td>\n",
       "      <td>5-10</td>\n",
       "      <td>10-20,000</td>\n",
       "      <td>No (we do not use ML methods)</td>\n",
       "      <td>0</td>\n",
       "      <td>0</td>\n",
       "      <td>Basic statistical software (Microsoft Excel, G...</td>\n",
       "      <td>0</td>\n",
       "      <td>0</td>\n",
       "      <td>0</td>\n",
       "      <td>0</td>\n",
       "      <td>1</td>\n",
       "      <td>0</td>\n",
       "      <td>1</td>\n",
       "      <td>0</td>\n",
       "      <td>0</td>\n",
       "      <td>1</td>\n",
       "      <td>Other</td>\n",
       "      <td>Python</td>\n",
       "      <td>0</td>\n",
       "      <td>0</td>\n",
       "      <td>0</td>\n",
       "      <td>Other</td>\n",
       "      <td>0</td>\n",
       "      <td>0</td>\n",
       "      <td>0</td>\n",
       "      <td>Other</td>\n",
       "      <td>1% to 25% of my time</td>\n",
       "      <td>I have never written code but I want to learn</td>\n",
       "      <td>I have never studied machine learning but plan...</td>\n",
       "      <td>Definitely not</td>\n",
       "      <td>0</td>\n",
       "      <td>0</td>\n",
       "      <td>0</td>\n",
       "      <td>0</td>\n",
       "      <td>0</td>\n",
       "      <td>0</td>\n",
       "      <td>Other Data</td>\n",
       "      <td>0</td>\n",
       "      <td>0</td>\n",
       "      <td>NaN</td>\n",
       "      <td>NaN</td>\n",
       "      <td>NaN</td>\n",
       "      <td>NaN</td>\n",
       "      <td>NaN</td>\n",
       "      <td>NaN</td>\n",
       "      <td>NaN</td>\n",
       "      <td>NaN</td>\n",
       "      <td>NaN</td>\n",
       "      <td>NaN</td>\n",
       "      <td>NaN</td>\n",
       "      <td>NaN</td>\n",
       "      <td>0</td>\n",
       "      <td>Other</td>\n",
       "      <td>Slightly worse</td>\n",
       "      <td>No opinion; I do not know</td>\n",
       "      <td>Independent projects are equally important as ...</td>\n",
       "      <td>No opinion; I do not know</td>\n",
       "      <td>No opinion; I do not know</td>\n",
       "      <td>No opinion; I do not know</td>\n",
       "      <td>0</td>\n",
       "      <td>0</td>\n",
       "      <td>10-20</td>\n",
       "      <td>0</td>\n",
       "      <td>0</td>\n",
       "      <td>I do not know; I have no opinion on the matter</td>\n",
       "      <td>0</td>\n",
       "      <td>0</td>\n",
       "      <td>0</td>\n",
       "    </tr>\n",
       "    <tr>\n",
       "      <th>3</th>\n",
       "      <td>718</td>\n",
       "      <td>Female</td>\n",
       "      <td>30-34</td>\n",
       "      <td>United States of America</td>\n",
       "      <td>Master’s degree</td>\n",
       "      <td>Computer science (software engineering, etc.)</td>\n",
       "      <td>Data Scientist</td>\n",
       "      <td>I am a student</td>\n",
       "      <td>0-1</td>\n",
       "      <td>0-10,000</td>\n",
       "      <td>I do not know</td>\n",
       "      <td>1</td>\n",
       "      <td>0</td>\n",
       "      <td>Local or hosted development environments (RStu...</td>\n",
       "      <td>0</td>\n",
       "      <td>0</td>\n",
       "      <td>0</td>\n",
       "      <td>0</td>\n",
       "      <td>1</td>\n",
       "      <td>0</td>\n",
       "      <td>1</td>\n",
       "      <td>0</td>\n",
       "      <td>1</td>\n",
       "      <td>0</td>\n",
       "      <td>Java</td>\n",
       "      <td>Python</td>\n",
       "      <td>0</td>\n",
       "      <td>0</td>\n",
       "      <td>0</td>\n",
       "      <td>Other</td>\n",
       "      <td>1</td>\n",
       "      <td>1</td>\n",
       "      <td>1</td>\n",
       "      <td>ggplot2</td>\n",
       "      <td>75% to 99% of my time</td>\n",
       "      <td>5-10 years</td>\n",
       "      <td>&lt; 1 year</td>\n",
       "      <td>Definitely yes</td>\n",
       "      <td>0</td>\n",
       "      <td>1</td>\n",
       "      <td>1</td>\n",
       "      <td>0</td>\n",
       "      <td>1</td>\n",
       "      <td>1</td>\n",
       "      <td>Time Series Data</td>\n",
       "      <td>1</td>\n",
       "      <td>0</td>\n",
       "      <td>2</td>\n",
       "      <td>3</td>\n",
       "      <td>20</td>\n",
       "      <td>50</td>\n",
       "      <td>20</td>\n",
       "      <td>0</td>\n",
       "      <td>0</td>\n",
       "      <td>0</td>\n",
       "      <td>0</td>\n",
       "      <td>100</td>\n",
       "      <td>0</td>\n",
       "      <td>0</td>\n",
       "      <td>0</td>\n",
       "      <td>DataCamp</td>\n",
       "      <td>Slightly worse</td>\n",
       "      <td>Slightly better</td>\n",
       "      <td>Independent projects are equally important as ...</td>\n",
       "      <td>Very important</td>\n",
       "      <td>Very important</td>\n",
       "      <td>Very important</td>\n",
       "      <td>1</td>\n",
       "      <td>0-10</td>\n",
       "      <td>10-20</td>\n",
       "      <td>1</td>\n",
       "      <td>1</td>\n",
       "      <td>I am confident that I can explain the outputs ...</td>\n",
       "      <td>0</td>\n",
       "      <td>1</td>\n",
       "      <td>1</td>\n",
       "    </tr>\n",
       "    <tr>\n",
       "      <th>5</th>\n",
       "      <td>731</td>\n",
       "      <td>Male</td>\n",
       "      <td>22-24</td>\n",
       "      <td>India</td>\n",
       "      <td>Master’s degree</td>\n",
       "      <td>Mathematics or statistics</td>\n",
       "      <td>Data Analyst</td>\n",
       "      <td>I am a student</td>\n",
       "      <td>0-1</td>\n",
       "      <td>0-10,000</td>\n",
       "      <td>I do not know</td>\n",
       "      <td>0</td>\n",
       "      <td>0</td>\n",
       "      <td>Advanced statistical software (SPSS, SAS, etc.)</td>\n",
       "      <td>0</td>\n",
       "      <td>1</td>\n",
       "      <td>0</td>\n",
       "      <td>0</td>\n",
       "      <td>0</td>\n",
       "      <td>0</td>\n",
       "      <td>0</td>\n",
       "      <td>0</td>\n",
       "      <td>0</td>\n",
       "      <td>1</td>\n",
       "      <td>SQL</td>\n",
       "      <td>R</td>\n",
       "      <td>0</td>\n",
       "      <td>0</td>\n",
       "      <td>0</td>\n",
       "      <td>Other</td>\n",
       "      <td>0</td>\n",
       "      <td>0</td>\n",
       "      <td>0</td>\n",
       "      <td>Other</td>\n",
       "      <td>75% to 99% of my time</td>\n",
       "      <td>5-10 years</td>\n",
       "      <td>2-3 years</td>\n",
       "      <td>Maybe</td>\n",
       "      <td>0</td>\n",
       "      <td>1</td>\n",
       "      <td>0</td>\n",
       "      <td>0</td>\n",
       "      <td>0</td>\n",
       "      <td>0</td>\n",
       "      <td>Other Data</td>\n",
       "      <td>0</td>\n",
       "      <td>0</td>\n",
       "      <td>10</td>\n",
       "      <td>10</td>\n",
       "      <td>20</td>\n",
       "      <td>10</td>\n",
       "      <td>20</td>\n",
       "      <td>23</td>\n",
       "      <td>20</td>\n",
       "      <td>40</td>\n",
       "      <td>20</td>\n",
       "      <td>20</td>\n",
       "      <td>0</td>\n",
       "      <td>0</td>\n",
       "      <td>1</td>\n",
       "      <td>Coursera</td>\n",
       "      <td>Slightly better</td>\n",
       "      <td>Much better</td>\n",
       "      <td>Independent projects are slightly more importa...</td>\n",
       "      <td>Not at all important</td>\n",
       "      <td>Slightly important</td>\n",
       "      <td>Very important</td>\n",
       "      <td>0</td>\n",
       "      <td>20-30</td>\n",
       "      <td>20-30</td>\n",
       "      <td>0</td>\n",
       "      <td>0</td>\n",
       "      <td>I am confident that I can understand and expla...</td>\n",
       "      <td>0</td>\n",
       "      <td>0</td>\n",
       "      <td>1</td>\n",
       "    </tr>\n",
       "    <tr>\n",
       "      <th>7</th>\n",
       "      <td>959</td>\n",
       "      <td>Male</td>\n",
       "      <td>35-39</td>\n",
       "      <td>Chile</td>\n",
       "      <td>Doctoral degree</td>\n",
       "      <td>Information technology, networking, or system ...</td>\n",
       "      <td>Other</td>\n",
       "      <td>Academics/Education</td>\n",
       "      <td>10-15</td>\n",
       "      <td>10-20,000</td>\n",
       "      <td>No (we do not use ML methods)</td>\n",
       "      <td>0</td>\n",
       "      <td>0</td>\n",
       "      <td>Basic statistical software (Microsoft Excel, G...</td>\n",
       "      <td>0</td>\n",
       "      <td>1</td>\n",
       "      <td>0</td>\n",
       "      <td>0</td>\n",
       "      <td>0</td>\n",
       "      <td>0</td>\n",
       "      <td>0</td>\n",
       "      <td>0</td>\n",
       "      <td>1</td>\n",
       "      <td>0</td>\n",
       "      <td>Other</td>\n",
       "      <td>R</td>\n",
       "      <td>0</td>\n",
       "      <td>0</td>\n",
       "      <td>0</td>\n",
       "      <td>Other</td>\n",
       "      <td>0</td>\n",
       "      <td>0</td>\n",
       "      <td>0</td>\n",
       "      <td>Other</td>\n",
       "      <td>25% to 49% of my time</td>\n",
       "      <td>&lt; 1 year</td>\n",
       "      <td>&lt; 1 year</td>\n",
       "      <td>Probably not</td>\n",
       "      <td>0</td>\n",
       "      <td>1</td>\n",
       "      <td>1</td>\n",
       "      <td>0</td>\n",
       "      <td>1</td>\n",
       "      <td>0</td>\n",
       "      <td>Numerical Data</td>\n",
       "      <td>0</td>\n",
       "      <td>0</td>\n",
       "      <td>0</td>\n",
       "      <td>30</td>\n",
       "      <td>50</td>\n",
       "      <td>0</td>\n",
       "      <td>0</td>\n",
       "      <td>20</td>\n",
       "      <td>50</td>\n",
       "      <td>20</td>\n",
       "      <td>30</td>\n",
       "      <td>0</td>\n",
       "      <td>0</td>\n",
       "      <td>0</td>\n",
       "      <td>0</td>\n",
       "      <td>Other</td>\n",
       "      <td>Slightly better</td>\n",
       "      <td>Neither better nor worse</td>\n",
       "      <td>Independent projects are much more important t...</td>\n",
       "      <td>Slightly important</td>\n",
       "      <td>Slightly important</td>\n",
       "      <td>Very important</td>\n",
       "      <td>0</td>\n",
       "      <td>0-10</td>\n",
       "      <td>0</td>\n",
       "      <td>0</td>\n",
       "      <td>0</td>\n",
       "      <td>I do not know; I have no opinion on the matter</td>\n",
       "      <td>0</td>\n",
       "      <td>0</td>\n",
       "      <td>0</td>\n",
       "    </tr>\n",
       "    <tr>\n",
       "      <th>8</th>\n",
       "      <td>1758</td>\n",
       "      <td>Male</td>\n",
       "      <td>18-21</td>\n",
       "      <td>India</td>\n",
       "      <td>Master’s degree</td>\n",
       "      <td>Information technology, networking, or system ...</td>\n",
       "      <td>Other</td>\n",
       "      <td>Other</td>\n",
       "      <td>0-1</td>\n",
       "      <td>0-10,000</td>\n",
       "      <td>We recently started using ML methods (i.e., mo...</td>\n",
       "      <td>0</td>\n",
       "      <td>0</td>\n",
       "      <td>Local or hosted development environments (RStu...</td>\n",
       "      <td>1</td>\n",
       "      <td>0</td>\n",
       "      <td>1</td>\n",
       "      <td>1</td>\n",
       "      <td>0</td>\n",
       "      <td>0</td>\n",
       "      <td>0</td>\n",
       "      <td>1</td>\n",
       "      <td>0</td>\n",
       "      <td>0</td>\n",
       "      <td>Other</td>\n",
       "      <td>Python</td>\n",
       "      <td>1</td>\n",
       "      <td>0</td>\n",
       "      <td>1</td>\n",
       "      <td>Keras</td>\n",
       "      <td>1</td>\n",
       "      <td>1</td>\n",
       "      <td>1</td>\n",
       "      <td>Matplotlib</td>\n",
       "      <td>75% to 99% of my time</td>\n",
       "      <td>&lt; 1 year</td>\n",
       "      <td>&lt; 1 year</td>\n",
       "      <td>Probably not</td>\n",
       "      <td>1</td>\n",
       "      <td>0</td>\n",
       "      <td>1</td>\n",
       "      <td>1</td>\n",
       "      <td>1</td>\n",
       "      <td>0</td>\n",
       "      <td>Image Data</td>\n",
       "      <td>1</td>\n",
       "      <td>1</td>\n",
       "      <td>20</td>\n",
       "      <td>30</td>\n",
       "      <td>20</td>\n",
       "      <td>20</td>\n",
       "      <td>5</td>\n",
       "      <td>5</td>\n",
       "      <td>75</td>\n",
       "      <td>5</td>\n",
       "      <td>20</td>\n",
       "      <td>0</td>\n",
       "      <td>0</td>\n",
       "      <td>0</td>\n",
       "      <td>0</td>\n",
       "      <td>Udacity</td>\n",
       "      <td>Slightly better</td>\n",
       "      <td>Slightly better</td>\n",
       "      <td>Independent projects are slightly more importa...</td>\n",
       "      <td>Very important</td>\n",
       "      <td>Very important</td>\n",
       "      <td>Very important</td>\n",
       "      <td>1</td>\n",
       "      <td>0</td>\n",
       "      <td>10-20</td>\n",
       "      <td>0</td>\n",
       "      <td>0</td>\n",
       "      <td>I view ML models as \"black boxes\" but I am con...</td>\n",
       "      <td>1</td>\n",
       "      <td>1</td>\n",
       "      <td>0</td>\n",
       "    </tr>\n",
       "  </tbody>\n",
       "</table>\n",
       "</div>"
      ],
      "text/plain": [
       "  Time from Start to Finish (seconds)      Q1  ... Q49_Part_7 Q50_Part_2\n",
       "2                                 434    Male  ...          0          0\n",
       "3                                 718  Female  ...          1          1\n",
       "5                                 731    Male  ...          0          1\n",
       "7                                 959    Male  ...          0          0\n",
       "8                                1758    Male  ...          1          0\n",
       "\n",
       "[5 rows x 76 columns]"
      ]
     },
     "execution_count": 80,
     "metadata": {
      "tags": []
     },
     "output_type": "execute_result"
    }
   ],
   "source": [
    "Salaries.head()"
   ]
  },
  {
   "cell_type": "markdown",
   "metadata": {
    "colab_type": "text",
    "id": "1OwythGRkCQN"
   },
   "source": [
    "In order to better visualize the target variables, we normalize Q9 by taking the mean of current yearly compensation. "
   ]
  },
  {
   "cell_type": "code",
   "execution_count": 81,
   "metadata": {
    "colab": {
     "base_uri": "https://localhost:8080/",
     "height": 751
    },
    "colab_type": "code",
    "id": "-5mmkmxBVzsM",
    "outputId": "4ce41365-56bf-4a74-96f9-50e8685013a0"
   },
   "outputs": [
    {
     "data": {
      "text/html": [
       "<div>\n",
       "<style scoped>\n",
       "    .dataframe tbody tr th:only-of-type {\n",
       "        vertical-align: middle;\n",
       "    }\n",
       "\n",
       "    .dataframe tbody tr th {\n",
       "        vertical-align: top;\n",
       "    }\n",
       "\n",
       "    .dataframe thead th {\n",
       "        text-align: right;\n",
       "    }\n",
       "</style>\n",
       "<table border=\"1\" class=\"dataframe\">\n",
       "  <thead>\n",
       "    <tr style=\"text-align: right;\">\n",
       "      <th></th>\n",
       "      <th>Time from Start to Finish (seconds)</th>\n",
       "      <th>Q1</th>\n",
       "      <th>Q2</th>\n",
       "      <th>Q3</th>\n",
       "      <th>Q4</th>\n",
       "      <th>Q5</th>\n",
       "      <th>Q6</th>\n",
       "      <th>Q7</th>\n",
       "      <th>Q8</th>\n",
       "      <th>Q9</th>\n",
       "      <th>Q10</th>\n",
       "      <th>Q11_Part_1</th>\n",
       "      <th>Q11_Part_4</th>\n",
       "      <th>Q12_MULTIPLE_CHOICE</th>\n",
       "      <th>Q13_Part_1</th>\n",
       "      <th>Q13_Part_2</th>\n",
       "      <th>Q13_Part_3</th>\n",
       "      <th>Q13_Part_9</th>\n",
       "      <th>Q14_Part_10</th>\n",
       "      <th>Q15_Part_2</th>\n",
       "      <th>Q15_Part_6</th>\n",
       "      <th>Q16_Part_1</th>\n",
       "      <th>Q16_Part_2</th>\n",
       "      <th>Q16_Part_3</th>\n",
       "      <th>Q17</th>\n",
       "      <th>Q18</th>\n",
       "      <th>Q19_Part_1</th>\n",
       "      <th>Q19_Part_2</th>\n",
       "      <th>Q19_Part_3</th>\n",
       "      <th>Q20</th>\n",
       "      <th>Q21_Part_1</th>\n",
       "      <th>Q21_Part_2</th>\n",
       "      <th>Q21_Part_8</th>\n",
       "      <th>Q22</th>\n",
       "      <th>Q23</th>\n",
       "      <th>Q24</th>\n",
       "      <th>Q25</th>\n",
       "      <th>Q26</th>\n",
       "      <th>Q29_Part_10</th>\n",
       "      <th>Q31_Part_2</th>\n",
       "      <th>Q31_Part_6</th>\n",
       "      <th>Q31_Part_8</th>\n",
       "      <th>Q31_Part_9</th>\n",
       "      <th>Q31_Part_10</th>\n",
       "      <th>Q32</th>\n",
       "      <th>Q33_Part_4</th>\n",
       "      <th>Q33_Part_7</th>\n",
       "      <th>Q34_Part_1</th>\n",
       "      <th>Q34_Part_2</th>\n",
       "      <th>Q34_Part_3</th>\n",
       "      <th>Q34_Part_4</th>\n",
       "      <th>Q34_Part_5</th>\n",
       "      <th>Q34_Part_6</th>\n",
       "      <th>Q35_Part_1</th>\n",
       "      <th>Q35_Part_2</th>\n",
       "      <th>Q35_Part_3</th>\n",
       "      <th>Q35_Part_4</th>\n",
       "      <th>Q35_Part_5</th>\n",
       "      <th>Q35_Part_6</th>\n",
       "      <th>Q36_Part_2</th>\n",
       "      <th>Q37</th>\n",
       "      <th>Q39_Part_1</th>\n",
       "      <th>Q39_Part_2</th>\n",
       "      <th>Q40</th>\n",
       "      <th>Q41_Part_1</th>\n",
       "      <th>Q41_Part_2</th>\n",
       "      <th>Q41_Part_3</th>\n",
       "      <th>Q42_Part_2</th>\n",
       "      <th>Q43</th>\n",
       "      <th>Q46</th>\n",
       "      <th>Q47_Part_3</th>\n",
       "      <th>Q47_Part_8</th>\n",
       "      <th>Q48</th>\n",
       "      <th>Q49_Part_6</th>\n",
       "      <th>Q49_Part_7</th>\n",
       "      <th>Q50_Part_2</th>\n",
       "    </tr>\n",
       "  </thead>\n",
       "  <tbody>\n",
       "    <tr>\n",
       "      <th>2</th>\n",
       "      <td>434</td>\n",
       "      <td>Male</td>\n",
       "      <td>30-34</td>\n",
       "      <td>Indonesia</td>\n",
       "      <td>Bachelor’s degree</td>\n",
       "      <td>Engineering (non-computer focused)</td>\n",
       "      <td>Other</td>\n",
       "      <td>Manufacturing/Fabrication</td>\n",
       "      <td>5-10</td>\n",
       "      <td>15000.0</td>\n",
       "      <td>No (we do not use ML methods)</td>\n",
       "      <td>0</td>\n",
       "      <td>0</td>\n",
       "      <td>Basic statistical software (Microsoft Excel, G...</td>\n",
       "      <td>0</td>\n",
       "      <td>0</td>\n",
       "      <td>0</td>\n",
       "      <td>0</td>\n",
       "      <td>1</td>\n",
       "      <td>0</td>\n",
       "      <td>1</td>\n",
       "      <td>0</td>\n",
       "      <td>0</td>\n",
       "      <td>1</td>\n",
       "      <td>Other</td>\n",
       "      <td>Python</td>\n",
       "      <td>0</td>\n",
       "      <td>0</td>\n",
       "      <td>0</td>\n",
       "      <td>Other</td>\n",
       "      <td>0</td>\n",
       "      <td>0</td>\n",
       "      <td>0</td>\n",
       "      <td>Other</td>\n",
       "      <td>1% to 25% of my time</td>\n",
       "      <td>I have never written code but I want to learn</td>\n",
       "      <td>I have never studied machine learning but plan...</td>\n",
       "      <td>Definitely not</td>\n",
       "      <td>0</td>\n",
       "      <td>0</td>\n",
       "      <td>0</td>\n",
       "      <td>0</td>\n",
       "      <td>0</td>\n",
       "      <td>0</td>\n",
       "      <td>Other Data</td>\n",
       "      <td>0</td>\n",
       "      <td>0</td>\n",
       "      <td>NaN</td>\n",
       "      <td>NaN</td>\n",
       "      <td>NaN</td>\n",
       "      <td>NaN</td>\n",
       "      <td>NaN</td>\n",
       "      <td>NaN</td>\n",
       "      <td>NaN</td>\n",
       "      <td>NaN</td>\n",
       "      <td>NaN</td>\n",
       "      <td>NaN</td>\n",
       "      <td>NaN</td>\n",
       "      <td>NaN</td>\n",
       "      <td>0</td>\n",
       "      <td>Other</td>\n",
       "      <td>Slightly worse</td>\n",
       "      <td>No opinion; I do not know</td>\n",
       "      <td>Independent projects are equally important as ...</td>\n",
       "      <td>No opinion; I do not know</td>\n",
       "      <td>No opinion; I do not know</td>\n",
       "      <td>No opinion; I do not know</td>\n",
       "      <td>0</td>\n",
       "      <td>0</td>\n",
       "      <td>10-20</td>\n",
       "      <td>0</td>\n",
       "      <td>0</td>\n",
       "      <td>I do not know; I have no opinion on the matter</td>\n",
       "      <td>0</td>\n",
       "      <td>0</td>\n",
       "      <td>0</td>\n",
       "    </tr>\n",
       "    <tr>\n",
       "      <th>3</th>\n",
       "      <td>718</td>\n",
       "      <td>Female</td>\n",
       "      <td>30-34</td>\n",
       "      <td>United States of America</td>\n",
       "      <td>Master’s degree</td>\n",
       "      <td>Computer science (software engineering, etc.)</td>\n",
       "      <td>Data Scientist</td>\n",
       "      <td>I am a student</td>\n",
       "      <td>0-1</td>\n",
       "      <td>5000.0</td>\n",
       "      <td>I do not know</td>\n",
       "      <td>1</td>\n",
       "      <td>0</td>\n",
       "      <td>Local or hosted development environments (RStu...</td>\n",
       "      <td>0</td>\n",
       "      <td>0</td>\n",
       "      <td>0</td>\n",
       "      <td>0</td>\n",
       "      <td>1</td>\n",
       "      <td>0</td>\n",
       "      <td>1</td>\n",
       "      <td>0</td>\n",
       "      <td>1</td>\n",
       "      <td>0</td>\n",
       "      <td>Java</td>\n",
       "      <td>Python</td>\n",
       "      <td>0</td>\n",
       "      <td>0</td>\n",
       "      <td>0</td>\n",
       "      <td>Other</td>\n",
       "      <td>1</td>\n",
       "      <td>1</td>\n",
       "      <td>1</td>\n",
       "      <td>ggplot2</td>\n",
       "      <td>75% to 99% of my time</td>\n",
       "      <td>5-10 years</td>\n",
       "      <td>&lt; 1 year</td>\n",
       "      <td>Definitely yes</td>\n",
       "      <td>0</td>\n",
       "      <td>1</td>\n",
       "      <td>1</td>\n",
       "      <td>0</td>\n",
       "      <td>1</td>\n",
       "      <td>1</td>\n",
       "      <td>Time Series Data</td>\n",
       "      <td>1</td>\n",
       "      <td>0</td>\n",
       "      <td>2</td>\n",
       "      <td>3</td>\n",
       "      <td>20</td>\n",
       "      <td>50</td>\n",
       "      <td>20</td>\n",
       "      <td>0</td>\n",
       "      <td>0</td>\n",
       "      <td>0</td>\n",
       "      <td>0</td>\n",
       "      <td>100</td>\n",
       "      <td>0</td>\n",
       "      <td>0</td>\n",
       "      <td>0</td>\n",
       "      <td>DataCamp</td>\n",
       "      <td>Slightly worse</td>\n",
       "      <td>Slightly better</td>\n",
       "      <td>Independent projects are equally important as ...</td>\n",
       "      <td>Very important</td>\n",
       "      <td>Very important</td>\n",
       "      <td>Very important</td>\n",
       "      <td>1</td>\n",
       "      <td>0-10</td>\n",
       "      <td>10-20</td>\n",
       "      <td>1</td>\n",
       "      <td>1</td>\n",
       "      <td>I am confident that I can explain the outputs ...</td>\n",
       "      <td>0</td>\n",
       "      <td>1</td>\n",
       "      <td>1</td>\n",
       "    </tr>\n",
       "    <tr>\n",
       "      <th>5</th>\n",
       "      <td>731</td>\n",
       "      <td>Male</td>\n",
       "      <td>22-24</td>\n",
       "      <td>India</td>\n",
       "      <td>Master’s degree</td>\n",
       "      <td>Mathematics or statistics</td>\n",
       "      <td>Data Analyst</td>\n",
       "      <td>I am a student</td>\n",
       "      <td>0-1</td>\n",
       "      <td>5000.0</td>\n",
       "      <td>I do not know</td>\n",
       "      <td>0</td>\n",
       "      <td>0</td>\n",
       "      <td>Advanced statistical software (SPSS, SAS, etc.)</td>\n",
       "      <td>0</td>\n",
       "      <td>1</td>\n",
       "      <td>0</td>\n",
       "      <td>0</td>\n",
       "      <td>0</td>\n",
       "      <td>0</td>\n",
       "      <td>0</td>\n",
       "      <td>0</td>\n",
       "      <td>0</td>\n",
       "      <td>1</td>\n",
       "      <td>SQL</td>\n",
       "      <td>R</td>\n",
       "      <td>0</td>\n",
       "      <td>0</td>\n",
       "      <td>0</td>\n",
       "      <td>Other</td>\n",
       "      <td>0</td>\n",
       "      <td>0</td>\n",
       "      <td>0</td>\n",
       "      <td>Other</td>\n",
       "      <td>75% to 99% of my time</td>\n",
       "      <td>5-10 years</td>\n",
       "      <td>2-3 years</td>\n",
       "      <td>Maybe</td>\n",
       "      <td>0</td>\n",
       "      <td>1</td>\n",
       "      <td>0</td>\n",
       "      <td>0</td>\n",
       "      <td>0</td>\n",
       "      <td>0</td>\n",
       "      <td>Other Data</td>\n",
       "      <td>0</td>\n",
       "      <td>0</td>\n",
       "      <td>10</td>\n",
       "      <td>10</td>\n",
       "      <td>20</td>\n",
       "      <td>10</td>\n",
       "      <td>20</td>\n",
       "      <td>23</td>\n",
       "      <td>20</td>\n",
       "      <td>40</td>\n",
       "      <td>20</td>\n",
       "      <td>20</td>\n",
       "      <td>0</td>\n",
       "      <td>0</td>\n",
       "      <td>1</td>\n",
       "      <td>Coursera</td>\n",
       "      <td>Slightly better</td>\n",
       "      <td>Much better</td>\n",
       "      <td>Independent projects are slightly more importa...</td>\n",
       "      <td>Not at all important</td>\n",
       "      <td>Slightly important</td>\n",
       "      <td>Very important</td>\n",
       "      <td>0</td>\n",
       "      <td>20-30</td>\n",
       "      <td>20-30</td>\n",
       "      <td>0</td>\n",
       "      <td>0</td>\n",
       "      <td>I am confident that I can understand and expla...</td>\n",
       "      <td>0</td>\n",
       "      <td>0</td>\n",
       "      <td>1</td>\n",
       "    </tr>\n",
       "    <tr>\n",
       "      <th>7</th>\n",
       "      <td>959</td>\n",
       "      <td>Male</td>\n",
       "      <td>35-39</td>\n",
       "      <td>Chile</td>\n",
       "      <td>Doctoral degree</td>\n",
       "      <td>Information technology, networking, or system ...</td>\n",
       "      <td>Other</td>\n",
       "      <td>Academics/Education</td>\n",
       "      <td>10-15</td>\n",
       "      <td>15000.0</td>\n",
       "      <td>No (we do not use ML methods)</td>\n",
       "      <td>0</td>\n",
       "      <td>0</td>\n",
       "      <td>Basic statistical software (Microsoft Excel, G...</td>\n",
       "      <td>0</td>\n",
       "      <td>1</td>\n",
       "      <td>0</td>\n",
       "      <td>0</td>\n",
       "      <td>0</td>\n",
       "      <td>0</td>\n",
       "      <td>0</td>\n",
       "      <td>0</td>\n",
       "      <td>1</td>\n",
       "      <td>0</td>\n",
       "      <td>Other</td>\n",
       "      <td>R</td>\n",
       "      <td>0</td>\n",
       "      <td>0</td>\n",
       "      <td>0</td>\n",
       "      <td>Other</td>\n",
       "      <td>0</td>\n",
       "      <td>0</td>\n",
       "      <td>0</td>\n",
       "      <td>Other</td>\n",
       "      <td>25% to 49% of my time</td>\n",
       "      <td>&lt; 1 year</td>\n",
       "      <td>&lt; 1 year</td>\n",
       "      <td>Probably not</td>\n",
       "      <td>0</td>\n",
       "      <td>1</td>\n",
       "      <td>1</td>\n",
       "      <td>0</td>\n",
       "      <td>1</td>\n",
       "      <td>0</td>\n",
       "      <td>Numerical Data</td>\n",
       "      <td>0</td>\n",
       "      <td>0</td>\n",
       "      <td>0</td>\n",
       "      <td>30</td>\n",
       "      <td>50</td>\n",
       "      <td>0</td>\n",
       "      <td>0</td>\n",
       "      <td>20</td>\n",
       "      <td>50</td>\n",
       "      <td>20</td>\n",
       "      <td>30</td>\n",
       "      <td>0</td>\n",
       "      <td>0</td>\n",
       "      <td>0</td>\n",
       "      <td>0</td>\n",
       "      <td>Other</td>\n",
       "      <td>Slightly better</td>\n",
       "      <td>Neither better nor worse</td>\n",
       "      <td>Independent projects are much more important t...</td>\n",
       "      <td>Slightly important</td>\n",
       "      <td>Slightly important</td>\n",
       "      <td>Very important</td>\n",
       "      <td>0</td>\n",
       "      <td>0-10</td>\n",
       "      <td>0</td>\n",
       "      <td>0</td>\n",
       "      <td>0</td>\n",
       "      <td>I do not know; I have no opinion on the matter</td>\n",
       "      <td>0</td>\n",
       "      <td>0</td>\n",
       "      <td>0</td>\n",
       "    </tr>\n",
       "    <tr>\n",
       "      <th>8</th>\n",
       "      <td>1758</td>\n",
       "      <td>Male</td>\n",
       "      <td>18-21</td>\n",
       "      <td>India</td>\n",
       "      <td>Master’s degree</td>\n",
       "      <td>Information technology, networking, or system ...</td>\n",
       "      <td>Other</td>\n",
       "      <td>Other</td>\n",
       "      <td>0-1</td>\n",
       "      <td>5000.0</td>\n",
       "      <td>We recently started using ML methods (i.e., mo...</td>\n",
       "      <td>0</td>\n",
       "      <td>0</td>\n",
       "      <td>Local or hosted development environments (RStu...</td>\n",
       "      <td>1</td>\n",
       "      <td>0</td>\n",
       "      <td>1</td>\n",
       "      <td>1</td>\n",
       "      <td>0</td>\n",
       "      <td>0</td>\n",
       "      <td>0</td>\n",
       "      <td>1</td>\n",
       "      <td>0</td>\n",
       "      <td>0</td>\n",
       "      <td>Other</td>\n",
       "      <td>Python</td>\n",
       "      <td>1</td>\n",
       "      <td>0</td>\n",
       "      <td>1</td>\n",
       "      <td>Keras</td>\n",
       "      <td>1</td>\n",
       "      <td>1</td>\n",
       "      <td>1</td>\n",
       "      <td>Matplotlib</td>\n",
       "      <td>75% to 99% of my time</td>\n",
       "      <td>&lt; 1 year</td>\n",
       "      <td>&lt; 1 year</td>\n",
       "      <td>Probably not</td>\n",
       "      <td>1</td>\n",
       "      <td>0</td>\n",
       "      <td>1</td>\n",
       "      <td>1</td>\n",
       "      <td>1</td>\n",
       "      <td>0</td>\n",
       "      <td>Image Data</td>\n",
       "      <td>1</td>\n",
       "      <td>1</td>\n",
       "      <td>20</td>\n",
       "      <td>30</td>\n",
       "      <td>20</td>\n",
       "      <td>20</td>\n",
       "      <td>5</td>\n",
       "      <td>5</td>\n",
       "      <td>75</td>\n",
       "      <td>5</td>\n",
       "      <td>20</td>\n",
       "      <td>0</td>\n",
       "      <td>0</td>\n",
       "      <td>0</td>\n",
       "      <td>0</td>\n",
       "      <td>Udacity</td>\n",
       "      <td>Slightly better</td>\n",
       "      <td>Slightly better</td>\n",
       "      <td>Independent projects are slightly more importa...</td>\n",
       "      <td>Very important</td>\n",
       "      <td>Very important</td>\n",
       "      <td>Very important</td>\n",
       "      <td>1</td>\n",
       "      <td>0</td>\n",
       "      <td>10-20</td>\n",
       "      <td>0</td>\n",
       "      <td>0</td>\n",
       "      <td>I view ML models as \"black boxes\" but I am con...</td>\n",
       "      <td>1</td>\n",
       "      <td>1</td>\n",
       "      <td>0</td>\n",
       "    </tr>\n",
       "  </tbody>\n",
       "</table>\n",
       "</div>"
      ],
      "text/plain": [
       "  Time from Start to Finish (seconds)      Q1  ... Q49_Part_7 Q50_Part_2\n",
       "2                                 434    Male  ...          0          0\n",
       "3                                 718  Female  ...          1          1\n",
       "5                                 731    Male  ...          0          1\n",
       "7                                 959    Male  ...          0          0\n",
       "8                                1758    Male  ...          1          0\n",
       "\n",
       "[5 rows x 76 columns]"
      ]
     },
     "execution_count": 81,
     "metadata": {
      "tags": []
     },
     "output_type": "execute_result"
    }
   ],
   "source": [
    "import re\n",
    "Q9list=[]\n",
    "for num in Salaries[\"Q9\"]:\n",
    "  result= re.split('-|,',num)\n",
    "  compensation = (int(result[0])*1000 + int(result[1])*1000)/2\n",
    "  Q9list.append(compensation)\n",
    "Q9list\n",
    "Salaries[\"Q9\"]= Q9list\n",
    "Salaries.head()"
   ]
  },
  {
   "cell_type": "markdown",
   "metadata": {
    "colab_type": "text",
    "id": "TLSeiOl3GPXn"
   },
   "source": [
    "Because scikit-learn can only take numerical values as input in a numpy array, we convert categorical variables into numerical values, using dummy variables. This encoding implies an ordered relationship between the values in the category. It is suitable for questions that have multiple answers. Each answer is created as a new column, if the feature belongs to this category, we assign 1, otherwise 0. Only one of the categorical feature columns can have of 1 because respondents only choose 1 answer each time. This encoding is good for features that have multiple categories, such as the below features."
   ]
  },
  {
   "cell_type": "code",
   "execution_count": 82,
   "metadata": {
    "colab": {
     "base_uri": "https://localhost:8080/",
     "height": 474
    },
    "colab_type": "code",
    "id": "EipKWipvGddX",
    "outputId": "53d18644-cf08-4208-88ec-2a956ceffb6a"
   },
   "outputs": [
    {
     "data": {
      "text/html": [
       "<div>\n",
       "<style scoped>\n",
       "    .dataframe tbody tr th:only-of-type {\n",
       "        vertical-align: middle;\n",
       "    }\n",
       "\n",
       "    .dataframe tbody tr th {\n",
       "        vertical-align: top;\n",
       "    }\n",
       "\n",
       "    .dataframe thead th {\n",
       "        text-align: right;\n",
       "    }\n",
       "</style>\n",
       "<table border=\"1\" class=\"dataframe\">\n",
       "  <thead>\n",
       "    <tr style=\"text-align: right;\">\n",
       "      <th></th>\n",
       "      <th>Time from Start to Finish (seconds)</th>\n",
       "      <th>Q1_Female</th>\n",
       "      <th>Q1_Male</th>\n",
       "      <th>Q2_18-21</th>\n",
       "      <th>Q2_22-24</th>\n",
       "      <th>Q2_25-29</th>\n",
       "      <th>Q2_30-34</th>\n",
       "      <th>Q2_35-39</th>\n",
       "      <th>Q2_40-44</th>\n",
       "      <th>Q2_45-49</th>\n",
       "      <th>Q2_50-54</th>\n",
       "      <th>Q2_55-59</th>\n",
       "      <th>Q2_60-69</th>\n",
       "      <th>Q2_70-79</th>\n",
       "      <th>Q2_80+</th>\n",
       "      <th>Q3_Argentina</th>\n",
       "      <th>Q3_Australia</th>\n",
       "      <th>Q3_Austria</th>\n",
       "      <th>Q3_Bangladesh</th>\n",
       "      <th>Q3_Belarus</th>\n",
       "      <th>Q3_Belgium</th>\n",
       "      <th>Q3_Brazil</th>\n",
       "      <th>Q3_Canada</th>\n",
       "      <th>Q3_Chile</th>\n",
       "      <th>Q3_China</th>\n",
       "      <th>Q3_Colombia</th>\n",
       "      <th>Q3_Czech Republic</th>\n",
       "      <th>Q3_Denmark</th>\n",
       "      <th>Q3_Egypt</th>\n",
       "      <th>Q3_Finland</th>\n",
       "      <th>Q3_France</th>\n",
       "      <th>Q3_Germany</th>\n",
       "      <th>Q3_Greece</th>\n",
       "      <th>Q3_Hong Kong (S.A.R.)</th>\n",
       "      <th>Q3_Hungary</th>\n",
       "      <th>Q3_I do not wish to disclose my location</th>\n",
       "      <th>Q3_India</th>\n",
       "      <th>Q3_Indonesia</th>\n",
       "      <th>Q3_Iran, Islamic Republic of...</th>\n",
       "      <th>Q3_Ireland</th>\n",
       "      <th>...</th>\n",
       "      <th>Q40_Independent projects are slightly more important than academic achievements</th>\n",
       "      <th>Q41_Part_1_Not at all important</th>\n",
       "      <th>Q41_Part_1_Slightly important</th>\n",
       "      <th>Q41_Part_1_Very important</th>\n",
       "      <th>Q41_Part_2_Not at all important</th>\n",
       "      <th>Q41_Part_2_Slightly important</th>\n",
       "      <th>Q41_Part_2_Very important</th>\n",
       "      <th>Q41_Part_3_Not at all important</th>\n",
       "      <th>Q41_Part_3_Slightly important</th>\n",
       "      <th>Q41_Part_3_Very important</th>\n",
       "      <th>Q42_Part_2</th>\n",
       "      <th>Q43_0-10</th>\n",
       "      <th>Q43_10-20</th>\n",
       "      <th>Q43_20-30</th>\n",
       "      <th>Q43_30-40</th>\n",
       "      <th>Q43_40-50</th>\n",
       "      <th>Q43_50-60</th>\n",
       "      <th>Q43_60-70</th>\n",
       "      <th>Q43_70-80</th>\n",
       "      <th>Q43_80-90</th>\n",
       "      <th>Q43_90-100</th>\n",
       "      <th>Q46_0-10</th>\n",
       "      <th>Q46_10-20</th>\n",
       "      <th>Q46_20-30</th>\n",
       "      <th>Q46_30-40</th>\n",
       "      <th>Q46_40-50</th>\n",
       "      <th>Q46_50-60</th>\n",
       "      <th>Q46_60-70</th>\n",
       "      <th>Q46_70-80</th>\n",
       "      <th>Q46_80-90</th>\n",
       "      <th>Q46_90-100</th>\n",
       "      <th>Q47_Part_3</th>\n",
       "      <th>Q47_Part_8</th>\n",
       "      <th>Q48_I am confident that I can explain the outputs of most if not all ML models</th>\n",
       "      <th>Q48_I am confident that I can understand and explain the outputs of many but not all ML models</th>\n",
       "      <th>Q48_I view ML models as \"black boxes\" but I am confident that experts are able to explain model outputs</th>\n",
       "      <th>Q48_Yes, most ML models are \"black boxes\"</th>\n",
       "      <th>Q49_Part_6</th>\n",
       "      <th>Q49_Part_7</th>\n",
       "      <th>Q50_Part_2</th>\n",
       "    </tr>\n",
       "  </thead>\n",
       "  <tbody>\n",
       "    <tr>\n",
       "      <th>2</th>\n",
       "      <td>434</td>\n",
       "      <td>0</td>\n",
       "      <td>1</td>\n",
       "      <td>0</td>\n",
       "      <td>0</td>\n",
       "      <td>0</td>\n",
       "      <td>1</td>\n",
       "      <td>0</td>\n",
       "      <td>0</td>\n",
       "      <td>0</td>\n",
       "      <td>0</td>\n",
       "      <td>0</td>\n",
       "      <td>0</td>\n",
       "      <td>0</td>\n",
       "      <td>0</td>\n",
       "      <td>0</td>\n",
       "      <td>0</td>\n",
       "      <td>0</td>\n",
       "      <td>0</td>\n",
       "      <td>0</td>\n",
       "      <td>0</td>\n",
       "      <td>0</td>\n",
       "      <td>0</td>\n",
       "      <td>0</td>\n",
       "      <td>0</td>\n",
       "      <td>0</td>\n",
       "      <td>0</td>\n",
       "      <td>0</td>\n",
       "      <td>0</td>\n",
       "      <td>0</td>\n",
       "      <td>0</td>\n",
       "      <td>0</td>\n",
       "      <td>0</td>\n",
       "      <td>0</td>\n",
       "      <td>0</td>\n",
       "      <td>0</td>\n",
       "      <td>0</td>\n",
       "      <td>1</td>\n",
       "      <td>0</td>\n",
       "      <td>0</td>\n",
       "      <td>...</td>\n",
       "      <td>0</td>\n",
       "      <td>0</td>\n",
       "      <td>0</td>\n",
       "      <td>0</td>\n",
       "      <td>0</td>\n",
       "      <td>0</td>\n",
       "      <td>0</td>\n",
       "      <td>0</td>\n",
       "      <td>0</td>\n",
       "      <td>0</td>\n",
       "      <td>0</td>\n",
       "      <td>0</td>\n",
       "      <td>0</td>\n",
       "      <td>0</td>\n",
       "      <td>0</td>\n",
       "      <td>0</td>\n",
       "      <td>0</td>\n",
       "      <td>0</td>\n",
       "      <td>0</td>\n",
       "      <td>0</td>\n",
       "      <td>0</td>\n",
       "      <td>0</td>\n",
       "      <td>1</td>\n",
       "      <td>0</td>\n",
       "      <td>0</td>\n",
       "      <td>0</td>\n",
       "      <td>0</td>\n",
       "      <td>0</td>\n",
       "      <td>0</td>\n",
       "      <td>0</td>\n",
       "      <td>0</td>\n",
       "      <td>0</td>\n",
       "      <td>0</td>\n",
       "      <td>0</td>\n",
       "      <td>0</td>\n",
       "      <td>0</td>\n",
       "      <td>0</td>\n",
       "      <td>0</td>\n",
       "      <td>0</td>\n",
       "      <td>0</td>\n",
       "    </tr>\n",
       "    <tr>\n",
       "      <th>3</th>\n",
       "      <td>718</td>\n",
       "      <td>1</td>\n",
       "      <td>0</td>\n",
       "      <td>0</td>\n",
       "      <td>0</td>\n",
       "      <td>0</td>\n",
       "      <td>1</td>\n",
       "      <td>0</td>\n",
       "      <td>0</td>\n",
       "      <td>0</td>\n",
       "      <td>0</td>\n",
       "      <td>0</td>\n",
       "      <td>0</td>\n",
       "      <td>0</td>\n",
       "      <td>0</td>\n",
       "      <td>0</td>\n",
       "      <td>0</td>\n",
       "      <td>0</td>\n",
       "      <td>0</td>\n",
       "      <td>0</td>\n",
       "      <td>0</td>\n",
       "      <td>0</td>\n",
       "      <td>0</td>\n",
       "      <td>0</td>\n",
       "      <td>0</td>\n",
       "      <td>0</td>\n",
       "      <td>0</td>\n",
       "      <td>0</td>\n",
       "      <td>0</td>\n",
       "      <td>0</td>\n",
       "      <td>0</td>\n",
       "      <td>0</td>\n",
       "      <td>0</td>\n",
       "      <td>0</td>\n",
       "      <td>0</td>\n",
       "      <td>0</td>\n",
       "      <td>0</td>\n",
       "      <td>0</td>\n",
       "      <td>0</td>\n",
       "      <td>0</td>\n",
       "      <td>...</td>\n",
       "      <td>0</td>\n",
       "      <td>0</td>\n",
       "      <td>0</td>\n",
       "      <td>1</td>\n",
       "      <td>0</td>\n",
       "      <td>0</td>\n",
       "      <td>1</td>\n",
       "      <td>0</td>\n",
       "      <td>0</td>\n",
       "      <td>1</td>\n",
       "      <td>1</td>\n",
       "      <td>1</td>\n",
       "      <td>0</td>\n",
       "      <td>0</td>\n",
       "      <td>0</td>\n",
       "      <td>0</td>\n",
       "      <td>0</td>\n",
       "      <td>0</td>\n",
       "      <td>0</td>\n",
       "      <td>0</td>\n",
       "      <td>0</td>\n",
       "      <td>0</td>\n",
       "      <td>1</td>\n",
       "      <td>0</td>\n",
       "      <td>0</td>\n",
       "      <td>0</td>\n",
       "      <td>0</td>\n",
       "      <td>0</td>\n",
       "      <td>0</td>\n",
       "      <td>0</td>\n",
       "      <td>0</td>\n",
       "      <td>1</td>\n",
       "      <td>1</td>\n",
       "      <td>1</td>\n",
       "      <td>0</td>\n",
       "      <td>0</td>\n",
       "      <td>0</td>\n",
       "      <td>0</td>\n",
       "      <td>1</td>\n",
       "      <td>1</td>\n",
       "    </tr>\n",
       "    <tr>\n",
       "      <th>5</th>\n",
       "      <td>731</td>\n",
       "      <td>0</td>\n",
       "      <td>1</td>\n",
       "      <td>0</td>\n",
       "      <td>1</td>\n",
       "      <td>0</td>\n",
       "      <td>0</td>\n",
       "      <td>0</td>\n",
       "      <td>0</td>\n",
       "      <td>0</td>\n",
       "      <td>0</td>\n",
       "      <td>0</td>\n",
       "      <td>0</td>\n",
       "      <td>0</td>\n",
       "      <td>0</td>\n",
       "      <td>0</td>\n",
       "      <td>0</td>\n",
       "      <td>0</td>\n",
       "      <td>0</td>\n",
       "      <td>0</td>\n",
       "      <td>0</td>\n",
       "      <td>0</td>\n",
       "      <td>0</td>\n",
       "      <td>0</td>\n",
       "      <td>0</td>\n",
       "      <td>0</td>\n",
       "      <td>0</td>\n",
       "      <td>0</td>\n",
       "      <td>0</td>\n",
       "      <td>0</td>\n",
       "      <td>0</td>\n",
       "      <td>0</td>\n",
       "      <td>0</td>\n",
       "      <td>0</td>\n",
       "      <td>0</td>\n",
       "      <td>0</td>\n",
       "      <td>1</td>\n",
       "      <td>0</td>\n",
       "      <td>0</td>\n",
       "      <td>0</td>\n",
       "      <td>...</td>\n",
       "      <td>1</td>\n",
       "      <td>1</td>\n",
       "      <td>0</td>\n",
       "      <td>0</td>\n",
       "      <td>0</td>\n",
       "      <td>1</td>\n",
       "      <td>0</td>\n",
       "      <td>0</td>\n",
       "      <td>0</td>\n",
       "      <td>1</td>\n",
       "      <td>0</td>\n",
       "      <td>0</td>\n",
       "      <td>0</td>\n",
       "      <td>1</td>\n",
       "      <td>0</td>\n",
       "      <td>0</td>\n",
       "      <td>0</td>\n",
       "      <td>0</td>\n",
       "      <td>0</td>\n",
       "      <td>0</td>\n",
       "      <td>0</td>\n",
       "      <td>0</td>\n",
       "      <td>0</td>\n",
       "      <td>1</td>\n",
       "      <td>0</td>\n",
       "      <td>0</td>\n",
       "      <td>0</td>\n",
       "      <td>0</td>\n",
       "      <td>0</td>\n",
       "      <td>0</td>\n",
       "      <td>0</td>\n",
       "      <td>0</td>\n",
       "      <td>0</td>\n",
       "      <td>0</td>\n",
       "      <td>1</td>\n",
       "      <td>0</td>\n",
       "      <td>0</td>\n",
       "      <td>0</td>\n",
       "      <td>0</td>\n",
       "      <td>1</td>\n",
       "    </tr>\n",
       "    <tr>\n",
       "      <th>7</th>\n",
       "      <td>959</td>\n",
       "      <td>0</td>\n",
       "      <td>1</td>\n",
       "      <td>0</td>\n",
       "      <td>0</td>\n",
       "      <td>0</td>\n",
       "      <td>0</td>\n",
       "      <td>1</td>\n",
       "      <td>0</td>\n",
       "      <td>0</td>\n",
       "      <td>0</td>\n",
       "      <td>0</td>\n",
       "      <td>0</td>\n",
       "      <td>0</td>\n",
       "      <td>0</td>\n",
       "      <td>0</td>\n",
       "      <td>0</td>\n",
       "      <td>0</td>\n",
       "      <td>0</td>\n",
       "      <td>0</td>\n",
       "      <td>0</td>\n",
       "      <td>0</td>\n",
       "      <td>0</td>\n",
       "      <td>1</td>\n",
       "      <td>0</td>\n",
       "      <td>0</td>\n",
       "      <td>0</td>\n",
       "      <td>0</td>\n",
       "      <td>0</td>\n",
       "      <td>0</td>\n",
       "      <td>0</td>\n",
       "      <td>0</td>\n",
       "      <td>0</td>\n",
       "      <td>0</td>\n",
       "      <td>0</td>\n",
       "      <td>0</td>\n",
       "      <td>0</td>\n",
       "      <td>0</td>\n",
       "      <td>0</td>\n",
       "      <td>0</td>\n",
       "      <td>...</td>\n",
       "      <td>0</td>\n",
       "      <td>0</td>\n",
       "      <td>1</td>\n",
       "      <td>0</td>\n",
       "      <td>0</td>\n",
       "      <td>1</td>\n",
       "      <td>0</td>\n",
       "      <td>0</td>\n",
       "      <td>0</td>\n",
       "      <td>1</td>\n",
       "      <td>0</td>\n",
       "      <td>1</td>\n",
       "      <td>0</td>\n",
       "      <td>0</td>\n",
       "      <td>0</td>\n",
       "      <td>0</td>\n",
       "      <td>0</td>\n",
       "      <td>0</td>\n",
       "      <td>0</td>\n",
       "      <td>0</td>\n",
       "      <td>0</td>\n",
       "      <td>0</td>\n",
       "      <td>0</td>\n",
       "      <td>0</td>\n",
       "      <td>0</td>\n",
       "      <td>0</td>\n",
       "      <td>0</td>\n",
       "      <td>0</td>\n",
       "      <td>0</td>\n",
       "      <td>0</td>\n",
       "      <td>0</td>\n",
       "      <td>0</td>\n",
       "      <td>0</td>\n",
       "      <td>0</td>\n",
       "      <td>0</td>\n",
       "      <td>0</td>\n",
       "      <td>0</td>\n",
       "      <td>0</td>\n",
       "      <td>0</td>\n",
       "      <td>0</td>\n",
       "    </tr>\n",
       "    <tr>\n",
       "      <th>8</th>\n",
       "      <td>1758</td>\n",
       "      <td>0</td>\n",
       "      <td>1</td>\n",
       "      <td>1</td>\n",
       "      <td>0</td>\n",
       "      <td>0</td>\n",
       "      <td>0</td>\n",
       "      <td>0</td>\n",
       "      <td>0</td>\n",
       "      <td>0</td>\n",
       "      <td>0</td>\n",
       "      <td>0</td>\n",
       "      <td>0</td>\n",
       "      <td>0</td>\n",
       "      <td>0</td>\n",
       "      <td>0</td>\n",
       "      <td>0</td>\n",
       "      <td>0</td>\n",
       "      <td>0</td>\n",
       "      <td>0</td>\n",
       "      <td>0</td>\n",
       "      <td>0</td>\n",
       "      <td>0</td>\n",
       "      <td>0</td>\n",
       "      <td>0</td>\n",
       "      <td>0</td>\n",
       "      <td>0</td>\n",
       "      <td>0</td>\n",
       "      <td>0</td>\n",
       "      <td>0</td>\n",
       "      <td>0</td>\n",
       "      <td>0</td>\n",
       "      <td>0</td>\n",
       "      <td>0</td>\n",
       "      <td>0</td>\n",
       "      <td>0</td>\n",
       "      <td>1</td>\n",
       "      <td>0</td>\n",
       "      <td>0</td>\n",
       "      <td>0</td>\n",
       "      <td>...</td>\n",
       "      <td>1</td>\n",
       "      <td>0</td>\n",
       "      <td>0</td>\n",
       "      <td>1</td>\n",
       "      <td>0</td>\n",
       "      <td>0</td>\n",
       "      <td>1</td>\n",
       "      <td>0</td>\n",
       "      <td>0</td>\n",
       "      <td>1</td>\n",
       "      <td>1</td>\n",
       "      <td>0</td>\n",
       "      <td>0</td>\n",
       "      <td>0</td>\n",
       "      <td>0</td>\n",
       "      <td>0</td>\n",
       "      <td>0</td>\n",
       "      <td>0</td>\n",
       "      <td>0</td>\n",
       "      <td>0</td>\n",
       "      <td>0</td>\n",
       "      <td>0</td>\n",
       "      <td>1</td>\n",
       "      <td>0</td>\n",
       "      <td>0</td>\n",
       "      <td>0</td>\n",
       "      <td>0</td>\n",
       "      <td>0</td>\n",
       "      <td>0</td>\n",
       "      <td>0</td>\n",
       "      <td>0</td>\n",
       "      <td>0</td>\n",
       "      <td>0</td>\n",
       "      <td>0</td>\n",
       "      <td>0</td>\n",
       "      <td>1</td>\n",
       "      <td>0</td>\n",
       "      <td>1</td>\n",
       "      <td>1</td>\n",
       "      <td>0</td>\n",
       "    </tr>\n",
       "  </tbody>\n",
       "</table>\n",
       "<p>5 rows × 336 columns</p>\n",
       "</div>"
      ],
      "text/plain": [
       "  Time from Start to Finish (seconds)  Q1_Female  ...  Q49_Part_7  Q50_Part_2\n",
       "2                                 434          0  ...           0           0\n",
       "3                                 718          1  ...           1           1\n",
       "5                                 731          0  ...           0           1\n",
       "7                                 959          0  ...           0           0\n",
       "8                                1758          0  ...           1           0\n",
       "\n",
       "[5 rows x 336 columns]"
      ]
     },
     "execution_count": 82,
     "metadata": {
      "tags": []
     },
     "output_type": "execute_result"
    }
   ],
   "source": [
    "dummy_Q1 = pd.get_dummies(Salaries['Q1'], prefix='Q1')\n",
    "dummy_Q2 = pd.get_dummies(Salaries['Q2'], prefix='Q2')\n",
    "dummy_Q3 = pd.get_dummies(Salaries['Q3'], prefix='Q3')\n",
    "dummy_Q4 = pd.get_dummies(Salaries['Q4'], prefix='Q4')\n",
    "dummy_Q5 = pd.get_dummies(Salaries['Q5'], prefix='Q5')\n",
    "dummy_Q6 = pd.get_dummies(Salaries['Q6'], prefix='Q6')\n",
    "dummy_Q7 = pd.get_dummies(Salaries['Q7'], prefix='Q7')\n",
    "dummy_Q8 = pd.get_dummies(Salaries['Q8'], prefix='Q8')\n",
    "dummy_Q10 = pd.get_dummies(Salaries['Q10'], prefix='Q10')\n",
    "dummy_Q12_MULTIPLE_CHOICE = pd.get_dummies(Salaries['Q12_MULTIPLE_CHOICE'], prefix='Q12_MULTIPLE_CHOICE')\n",
    "dummy_Q17 = pd.get_dummies(Salaries['Q17'], prefix='Q17')\n",
    "dummy_Q18 = pd.get_dummies(Salaries['Q18'], prefix='Q18')\n",
    "dummy_Q20 = pd.get_dummies(Salaries['Q20'], prefix='Q20')\n",
    "dummy_Q22 = pd.get_dummies(Salaries['Q22'], prefix='Q22')\n",
    "dummy_Q23 = pd.get_dummies(Salaries['Q23'], prefix='Q23')\n",
    "dummy_Q24 = pd.get_dummies(Salaries['Q24'], prefix='Q24')\n",
    "dummy_Q25 = pd.get_dummies(Salaries['Q25'], prefix='Q25')\n",
    "dummy_Q26 = pd.get_dummies(Salaries['Q26'], prefix='Q26')\n",
    "dummy_Q32 = pd.get_dummies(Salaries['Q32'], prefix='Q32')\n",
    "dummy_Q37 = pd.get_dummies(Salaries['Q37'], prefix='Q37')\n",
    "dummy_Q39_Part_1 = pd.get_dummies(Salaries['Q39_Part_1'], prefix='Q39_Part_1')\n",
    "dummy_Q39_Part_2 = pd.get_dummies(Salaries['Q39_Part_2'], prefix='Q39_Part_2')\n",
    "dummy_Q40 = pd.get_dummies(Salaries['Q40'], prefix='Q40')\n",
    "dummy_Q41_Part_1 = pd.get_dummies(Salaries['Q41_Part_1'], prefix='Q41_Part_1')\n",
    "dummy_Q41_Part_2 = pd.get_dummies(Salaries['Q41_Part_2'], prefix='Q41_Part_2')\n",
    "dummy_Q41_Part_3 = pd.get_dummies(Salaries['Q41_Part_3'], prefix='Q41_Part_3')\n",
    "dummy_Q43 = pd.get_dummies(Salaries['Q43'], prefix='Q43')\n",
    "dummy_Q46 = pd.get_dummies(Salaries['Q46'], prefix='Q46')\n",
    "dummy_Q48 = pd.get_dummies(Salaries['Q48'], prefix='Q48')\n",
    "\n",
    "tempDF = pd.concat([Salaries[\"Time from Start to Finish (seconds)\"],dummy_Q1,dummy_Q2,dummy_Q3,dummy_Q4,dummy_Q5,dummy_Q6,dummy_Q7,dummy_Q8,Salaries[\"Q9\"],dummy_Q10,Salaries[\"Q11_Part_1\"],Salaries[\"Q11_Part_4\"],dummy_Q12_MULTIPLE_CHOICE,Salaries[\"Q13_Part_1\"],Salaries[\"Q13_Part_2\"],Salaries[\"Q13_Part_3\"],Salaries[\"Q13_Part_9\"],Salaries[\"Q14_Part_10\"],Salaries[\"Q15_Part_2\"],Salaries[\"Q15_Part_6\"],Salaries[\"Q16_Part_1\"],Salaries[\"Q16_Part_2\"],Salaries[\"Q16_Part_3\"],dummy_Q17,dummy_Q18,Salaries[\"Q19_Part_1\"],Salaries[\"Q19_Part_2\"],Salaries[\"Q19_Part_3\"],dummy_Q20,Salaries[\"Q21_Part_1\"],Salaries[\"Q21_Part_2\"],Salaries[\"Q21_Part_8\"],dummy_Q22,dummy_Q23,dummy_Q24,dummy_Q25,dummy_Q26,Salaries[\"Q29_Part_10\"],Salaries[\"Q31_Part_2\"],Salaries[\"Q31_Part_6\"],Salaries[\"Q31_Part_8\"],Salaries[\"Q31_Part_9\"],Salaries[\"Q31_Part_10\"],dummy_Q32,Salaries[\"Q33_Part_4\"],Salaries[\"Q33_Part_7\"],Salaries[\"Q36_Part_2\"],dummy_Q37,dummy_Q39_Part_1,dummy_Q39_Part_2,dummy_Q40,dummy_Q41_Part_1,dummy_Q41_Part_2,dummy_Q41_Part_3,Salaries[\"Q42_Part_2\"],dummy_Q43,dummy_Q46,Salaries[\"Q47_Part_3\"],Salaries[\"Q47_Part_8\"],dummy_Q48,Salaries[\"Q49_Part_6\"],Salaries[\"Q49_Part_7\"],Salaries[\"Q50_Part_2\"]], axis=1)\n",
    "#pd.set_option('display.max_columns', None)\n",
    "DF = tempDF.drop(['Q1_Prefer not to say','Q1_Prefer to self-describe','Q3_Other','Q4_I prefer not to answer','Q5_Other','Q6_Other','Q7_Other','Q10_I do not know','Q12_MULTIPLE_CHOICE_Other','Q17_Other','Q18_Other','Q20_Other','Q22_Other','Q23_0% of my time','Q24_I have never written code and I do not want to learn','Q25_I have never studied machine learning and I do not plan to','Q32_Other Data','Q37_Other','Q39_Part_1_No opinion; I do not know','Q39_Part_2_No opinion; I do not know','Q40_No opinion; I do not know','Q41_Part_1_No opinion; I do not know','Q41_Part_2_No opinion; I do not know','Q41_Part_3_No opinion; I do not know','Q43_0','Q46_0','Q48_I do not know; I have no opinion on the matter'],axis=1)\n",
    "DF.head()"
   ]
  },
  {
   "cell_type": "markdown",
   "metadata": {
    "colab_type": "text",
    "id": "6ID5umpOl8qM"
   },
   "source": [
    "NOTE: usually we can Drop one of each of the dummy variables because its value is implied by the other dummy variable columns. E.g. if class a = 0, and class b = 0, then it belongs to class c (assume there are only 3 classes). However, this can only be done if the features do not have Nan values. If the features have Nan values, when class a = 0 and class b = 0, it can belong to class c and Nan."
   ]
  },
  {
   "cell_type": "markdown",
   "metadata": {
    "colab_type": "text",
    "id": "XPMJ1_QRGiI9"
   },
   "source": [
    "# **2.Exploratory data analysis**"
   ]
  },
  {
   "cell_type": "markdown",
   "metadata": {
    "colab_type": "text",
    "id": "j_tzh8SHKEeF"
   },
   "source": [
    "## **(1).Visualize the order of feature importance**"
   ]
  },
  {
   "cell_type": "markdown",
   "metadata": {
    "colab_type": "text",
    "id": "_Jpu_s4AnCAi"
   },
   "source": [
    "After cleaning the data, we plot the correlation of Q9 (current yearly compensation) and other features. We can visualize the order of feature importance. It is clearly shown that Q9 of course has maximum value because we basically compare Q9 to itself. Then it is followed by Q3_United States of America, Q24_10-20 years, Q10_We have well established ML methods, etc. These features are more related to the respondent's yearly compensation."
   ]
  },
  {
   "cell_type": "code",
   "execution_count": 83,
   "metadata": {
    "colab": {
     "base_uri": "https://localhost:8080/",
     "height": 1000
    },
    "colab_type": "code",
    "id": "NXcHFITR8E8E",
    "outputId": "dcff7103-537e-4acb-dece-af680655763a"
   },
   "outputs": [
    {
     "data": {
      "text/plain": [
       "<matplotlib.axes._subplots.AxesSubplot at 0x7f6276a35dd8>"
      ]
     },
     "execution_count": 83,
     "metadata": {
      "tags": []
     },
     "output_type": "execute_result"
    },
    {
     "data": {
      "image/png": "[encoded data removed]",
      "text/plain": [
       "<Figure size 1440x4320 with 1 Axes>"
      ]
     },
     "metadata": {
      "tags": []
     },
     "output_type": "display_data"
    }
   ],
   "source": [
    "corr = DF.corr()\n",
    "corr = corr.dropna(subset=[\"Q9\"])\n",
    "corr = corr[corr[\"Q9\"]>0]\n",
    "corr[\"Q9\"].sort_values(ascending=True).plot(kind='barh',figsize=(20,60))"
   ]
  },
  {
   "cell_type": "markdown",
   "metadata": {
    "colab_type": "text",
    "id": "Jtjsl7MtE8FG"
   },
   "source": [
    "## **(2).Present 3 graphical figures that represent trends in the data.**"
   ]
  },
  {
   "cell_type": "markdown",
   "metadata": {
    "colab_type": "text",
    "id": "yg2BcOrCoq9Y"
   },
   "source": [
    "(a).Overall yearly compensation distribution"
   ]
  },
  {
   "cell_type": "code",
   "execution_count": 84,
   "metadata": {
    "colab": {
     "base_uri": "https://localhost:8080/",
     "height": 297
    },
    "colab_type": "code",
    "id": "M6J7lb9wGk3m",
    "outputId": "516f49a9-ee3d-4c78-e240-0387c2edcb9e"
   },
   "outputs": [
    {
     "data": {
      "image/png": "[encoded data removed]",
      "text/plain": [
       "<Figure size 432x288 with 1 Axes>"
      ]
     },
     "metadata": {
      "tags": []
     },
     "output_type": "display_data"
    }
   ],
   "source": [
    "ax = sns.countplot(x=\"Q9\",data=Salaries)\n",
    "ax.set_xticklabels(ax.get_xticklabels(), rotation=90, ha=\"right\")\n",
    "plt.tight_layout()\n",
    "plt.show()"
   ]
  },
  {
   "cell_type": "markdown",
   "metadata": {
    "colab_type": "text",
    "id": "8pzpeySKT3kv"
   },
   "source": [
    "(b). Gender and yearly compensation"
   ]
  },
  {
   "cell_type": "markdown",
   "metadata": {
    "colab_type": "text",
    "id": "JwWU_kIUpuJU"
   },
   "source": [
    "We can see that most of the respondents are male. Also by looking at the overall yearly compensation by gender, we clearly see that male have higher compensation. We may assume that gender does have effect on the yearly compensation and male usually have more compensation than female."
   ]
  },
  {
   "cell_type": "code",
   "execution_count": 85,
   "metadata": {
    "colab": {
     "base_uri": "https://localhost:8080/",
     "height": 297
    },
    "colab_type": "code",
    "id": "NxgnxJWuLE_w",
    "outputId": "761d78c2-bfec-42ba-ffae-e55a11baa70f"
   },
   "outputs": [
    {
     "data": {
      "image/png": "[encoded data removed]",
      "text/plain": [
       "<Figure size 432x288 with 1 Axes>"
      ]
     },
     "metadata": {
      "tags": []
     },
     "output_type": "display_data"
    }
   ],
   "source": [
    "ax = sns.countplot(x=\"Q1\",data=Salaries,order=[\"Male\",\"Female\"])\n",
    "ax.set_xticklabels(ax.get_xticklabels(), rotation=0, ha=\"right\")\n",
    "plt.tight_layout()\n",
    "plt.show()"
   ]
  },
  {
   "cell_type": "code",
   "execution_count": 86,
   "metadata": {
    "colab": {
     "base_uri": "https://localhost:8080/",
     "height": 334
    },
    "colab_type": "code",
    "id": "Dpw-HO60QGoH",
    "outputId": "6784f50b-e276-45fb-e858-e29b887f7cb8"
   },
   "outputs": [
    {
     "data": {
      "image/png": "[encoded data removed]",
      "text/plain": [
       "<Figure size 720x360 with 1 Axes>"
      ]
     },
     "metadata": {
      "tags": []
     },
     "output_type": "display_data"
    }
   ],
   "source": [
    "px = Salaries[Salaries.Q1.isin(['Female','Male'])].groupby(['Q1'])['Q9'].mean().sort_values().plot(kind=\"bar\", figsize=(10,5))\n",
    "px.set(xlabel='Gender', ylabel='Overall yearly compensation distribution')\n",
    "px.set_xticklabels(px.get_xticklabels(), rotation=0)\n",
    "plt.show()"
   ]
  },
  {
   "cell_type": "markdown",
   "metadata": {
    "colab_type": "text",
    "id": "DrdjbHKCpWFD"
   },
   "source": [
    "(c). Country and yearly compensation"
   ]
  },
  {
   "cell_type": "markdown",
   "metadata": {
    "colab_type": "text",
    "id": "cOIfCS51qQH8"
   },
   "source": [
    "We can see that most of the respondents are from USA and India. Also by looking at the overall yearly compensation by country, we clearly see that many Europe and North America countries have higher compensation. These are mostly developed countries. We may assume that developed countries usually have more compensation than developing countries."
   ]
  },
  {
   "cell_type": "code",
   "execution_count": 87,
   "metadata": {
    "colab": {
     "base_uri": "https://localhost:8080/",
     "height": 539
    },
    "colab_type": "code",
    "id": "PM3X2E0JGnRt",
    "outputId": "0ba04977-e70a-4707-8d36-6b9096c5caf3"
   },
   "outputs": [
    {
     "data": {
      "image/png": "[encoded data removed]",
      "text/plain": [
       "<Figure size 1224x288 with 1 Axes>"
      ]
     },
     "metadata": {
      "tags": []
     },
     "output_type": "display_data"
    }
   ],
   "source": [
    "plt.figure(figsize=(17,4))\n",
    "ax = sns.countplot(x=\"Q3\",data=Salaries)\n",
    "ax.set_xticklabels(ax.get_xticklabels(), rotation=90, ha=\"right\")\n",
    "plt.tight_layout()\n",
    "plt.show()"
   ]
  },
  {
   "cell_type": "code",
   "execution_count": 88,
   "metadata": {
    "colab": {
     "base_uri": "https://localhost:8080/",
     "height": 592
    },
    "colab_type": "code",
    "id": "TawTFylpGpYF",
    "outputId": "1b20a495-e7db-405d-8665-24405a1f120e"
   },
   "outputs": [
    {
     "data": {
      "image/png": "[encoded data removed]",
      "text/plain": [
       "<Figure size 1296x360 with 1 Axes>"
      ]
     },
     "metadata": {
      "tags": []
     },
     "output_type": "display_data"
    }
   ],
   "source": [
    "px = Salaries.groupby(['Q3'])['Q9'].mean().sort_values().plot(kind=\"bar\", figsize=(18,5))\n",
    "px.set(xlabel='Country', ylabel='Overall yearly compensation distribution')\n",
    "px.set_xticklabels(px.get_xticklabels(), rotation=90)\n",
    "plt.show()"
   ]
  },
  {
   "cell_type": "markdown",
   "metadata": {
    "colab_type": "text",
    "id": "6Jbg99gfpdPP"
   },
   "source": [
    "(d). Education level and yearly compensation"
   ]
  },
  {
   "cell_type": "markdown",
   "metadata": {
    "colab_type": "text",
    "id": "Nx9DCvCYq7qM"
   },
   "source": [
    "We can see that lots of the respondents have a Master's degree. Also by looking at the overall yearly compensation by education level, we clearly see that many respondents with higher ecudation level have higher compensation. This makes sense as well."
   ]
  },
  {
   "cell_type": "code",
   "execution_count": 89,
   "metadata": {
    "colab": {
     "base_uri": "https://localhost:8080/",
     "height": 413
    },
    "colab_type": "code",
    "id": "wmjciSIMxfu2",
    "outputId": "8d885f28-bde7-4e23-e96a-62271765a2fa"
   },
   "outputs": [
    {
     "data": {
      "image/png": "[encoded data removed]",
      "text/plain": [
       "<Figure size 720x504 with 1 Axes>"
      ]
     },
     "metadata": {
      "tags": []
     },
     "output_type": "display_data"
    }
   ],
   "source": [
    "sns.set_palette('husl')\n",
    "px = Salaries['Q4'].value_counts(normalize=True).plot(kind='pie', autopct='%.1f%%', figsize=(10,7))\n",
    "px.axis('equal')\n",
    "px.get_yaxis().set_visible(False)"
   ]
  },
  {
   "cell_type": "code",
   "execution_count": 90,
   "metadata": {
    "colab": {
     "base_uri": "https://localhost:8080/",
     "height": 659
    },
    "colab_type": "code",
    "id": "ra3XyYRGyQEc",
    "outputId": "67737ec5-bea3-447e-fd5b-9519e3dc2551"
   },
   "outputs": [
    {
     "data": {
      "image/png": "[encoded data removed]",
      "text/plain": [
       "<Figure size 1296x360 with 1 Axes>"
      ]
     },
     "metadata": {
      "tags": []
     },
     "output_type": "display_data"
    }
   ],
   "source": [
    "px = Salaries.groupby(['Q4'])['Q9'].mean().sort_values().plot(kind=\"bar\", figsize=(18,5))\n",
    "px.set(xlabel='Education Level', ylabel='Overall yearly compensation distribution')\n",
    "px.set_xticklabels(px.get_xticklabels(), rotation=90)\n",
    "plt.show()"
   ]
  },
  {
   "cell_type": "markdown",
   "metadata": {
    "colab_type": "text",
    "id": "J6Vz1RylGsiN"
   },
   "source": [
    "# **3.Feature Selection**"
   ]
  },
  {
   "cell_type": "markdown",
   "metadata": {
    "colab_type": "text",
    "id": "5_Pe1gDcsA8b"
   },
   "source": [
    "Features are important to predictive models and influence results. The result depends on features chosen and also the model and the data itself. However, choosing the right features is very important which brings better results.\n",
    "Feature engineering is the process of using domain knowledge of the data to create features that make machine learning algorithms work. If feature engineering is done correctly, it increases the predictive power of machine learning algorithms by creating features from raw data that help facilitate the machine learning process."
   ]
  },
  {
   "cell_type": "markdown",
   "metadata": {
    "colab_type": "text",
    "id": "CmgLH834tql0"
   },
   "source": [
    "From the above section, we can see that we still have many features. We should do feature selection to filter out the unimportant features. Here we use Lasso Regularization for feature selection. Regularized regression basically adds a penalty to different parameters of the model and avoid overfitting (increase the penalisation will increase the number of features removed, we do not want the penalty too high, which will remove important features, or too low, which will keep the unimportant features). Lasso regression is useful to shrink some coefficients to 0 by imposing a constraint on the parameters then the feature can be removed."
   ]
  },
  {
   "cell_type": "code",
   "execution_count": 0,
   "metadata": {
    "colab": {},
    "colab_type": "code",
    "id": "fr05EpTA-Xo7"
   },
   "outputs": [],
   "source": [
    "Salaries_Train,Salaries_Test = train_test_split(DF,test_size=0.33, random_state=13)\n",
    "Salaries_Y_Train = Salaries_Train['Q9']\n",
    "Salaries_X_Train = Salaries_Train.drop(['Q9'], axis=1)\n",
    "Salaries_Y_Test = Salaries_Test['Q9']\n",
    "Salaries_X_Test = Salaries_Test.drop(['Q9'], axis=1)"
   ]
  },
  {
   "cell_type": "code",
   "execution_count": 92,
   "metadata": {
    "colab": {
     "base_uri": "https://localhost:8080/",
     "height": 34
    },
    "colab_type": "code",
    "id": "v9rY_kaIqYhd",
    "outputId": "7130e7a1-6796-44e2-a805-c95477ef568b"
   },
   "outputs": [
    {
     "data": {
      "text/plain": [
       "0.5526564516786191"
      ]
     },
     "execution_count": 92,
     "metadata": {
      "tags": []
     },
     "output_type": "execute_result"
    }
   ],
   "source": [
    "reg = linear_model.Lasso(alpha = 0.5,max_iter=10000) # optimal parameters are entered\n",
    "reg.fit(Salaries_X_Train, Salaries_Y_Train)\n",
    "reg.score(Salaries_X_Train, Salaries_Y_Train)"
   ]
  },
  {
   "cell_type": "code",
   "execution_count": 0,
   "metadata": {
    "colab": {},
    "colab_type": "code",
    "id": "hbBz15Y6rrzr"
   },
   "outputs": [],
   "source": [
    "from sklearn.metrics import make_scorer, r2_score, confusion_matrix\n",
    "from sklearn.model_selection import GridSearchCV, KFold\n",
    "from sklearn.metrics import make_scorer, r2_score, mean_squared_error, auc, mean_absolute_error\n",
    "reg_gridsearch = linear_model.Lasso(random_state=42)\n",
    "#Parameters to test\n",
    "parameters = {'alpha':[0.5,1,3], # Constant that multiplies the L1 term. Defaults to 1.0.\n",
    "             'normalize':[True,False]} #\n",
    "\n",
    "# Compare parameters by score of model \n",
    "acc_scorer_lm = make_scorer(r2_score)\n",
    "\n",
    "# Run the grid search\n",
    "grid_obj_lm = GridSearchCV(reg_gridsearch, parameters, scoring=acc_scorer_lm)\n",
    "grid_obj_lm = grid_obj_lm.fit(Salaries_X_Train, Salaries_Y_Train)\n",
    "\n",
    "reg_gridsearch = grid_obj_lm.best_estimator_  #Select best parameter combination"
   ]
  },
  {
   "cell_type": "code",
   "execution_count": 94,
   "metadata": {
    "colab": {
     "base_uri": "https://localhost:8080/",
     "height": 34
    },
    "colab_type": "code",
    "id": "gydVwh8ptdwa",
    "outputId": "8ca0abbb-b43f-4911-a629-1df76179ca49"
   },
   "outputs": [
    {
     "data": {
      "text/plain": [
       "0.5448070319668048"
      ]
     },
     "execution_count": 94,
     "metadata": {
      "tags": []
     },
     "output_type": "execute_result"
    }
   ],
   "source": [
    "reg_gridsearch.fit(Salaries_X_Train, Salaries_Y_Train)\n",
    "reg_gridsearch.score(Salaries_X_Train, Salaries_Y_Train)"
   ]
  },
  {
   "cell_type": "code",
   "execution_count": 95,
   "metadata": {
    "colab": {
     "base_uri": "https://localhost:8080/",
     "height": 34
    },
    "colab_type": "code",
    "id": "S_aA5dctx8K_",
    "outputId": "1ff6d1e8-ae63-44ed-8997-4a58a61fcf65"
   },
   "outputs": [
    {
     "data": {
      "text/plain": [
       "23167.76612825103"
      ]
     },
     "execution_count": 95,
     "metadata": {
      "tags": []
     },
     "output_type": "execute_result"
    }
   ],
   "source": [
    "predictions_lasso=reg_gridsearch.predict(Salaries_X_Test)\n",
    "mean_absolute_error(Salaries_Y_Test,predictions_lasso)"
   ]
  },
  {
   "cell_type": "code",
   "execution_count": 0,
   "metadata": {
    "colab": {},
    "colab_type": "code",
    "id": "-XCc8UNSyvRv"
   },
   "outputs": [],
   "source": [
    "def run_kfold(model):\n",
    "    \n",
    "    X = Salaries_X_Train\n",
    "    Y = Salaries_Y_Train\n",
    "    \n",
    "    kf = KFold(n_splits=10) # Provides train/test indices to split data in train/test sets.\n",
    "    \n",
    "    outcomes = []\n",
    "    fold = 0\n",
    "    \n",
    "    for train_index, test_index in kf.split(X):\n",
    "        fold += 1\n",
    "        X_train, X_test = X.values[train_index], X.values[test_index]\n",
    "        Y_train, Y_test = Y.values[train_index], Y.values[test_index]\n",
    "        \n",
    "        model.fit(X_train, Y_train)\n",
    "        predictions = model.predict(X_test)\n",
    "        \n",
    "        accuracy = r2_score(Y_test, predictions) # can try mean absolute error instead\n",
    "        outcomes.append(accuracy)\n",
    "        print(\"Fold {0} accuracy: {1}\".format(fold, accuracy))   \n",
    "        \n",
    "    mean_outcome = np.mean(outcomes)\n",
    "    std_outcome=np.std(outcomes)\n",
    "    print(\"Mean r2: {0}\".format(mean_outcome)) \n",
    "    print(\"Standard Deviation: {0}\".format(std_outcome)) "
   ]
  },
  {
   "cell_type": "code",
   "execution_count": 97,
   "metadata": {
    "colab": {
     "base_uri": "https://localhost:8080/",
     "height": 221
    },
    "colab_type": "code",
    "id": "l6FVNdNQydS3",
    "outputId": "a21f2a6e-5b01-4132-8211-ecf8c8569e53"
   },
   "outputs": [
    {
     "name": "stdout",
     "output_type": "stream",
     "text": [
      "Fold 1 accuracy: 0.5527608144513727\n",
      "Fold 2 accuracy: 0.5478196827272116\n",
      "Fold 3 accuracy: 0.47994615441330857\n",
      "Fold 4 accuracy: 0.5733748134167043\n",
      "Fold 5 accuracy: 0.41962819120438866\n",
      "Fold 6 accuracy: 0.5129015000632111\n",
      "Fold 7 accuracy: 0.5033820376578028\n",
      "Fold 8 accuracy: 0.5436953834052956\n",
      "Fold 9 accuracy: 0.5418852022524874\n",
      "Fold 10 accuracy: 0.4848657551225226\n",
      "Mean r2: 0.5160259534714305\n",
      "Standard Deviation: 0.04338012254031444\n"
     ]
    }
   ],
   "source": [
    "run_kfold (reg)"
   ]
  },
  {
   "cell_type": "markdown",
   "metadata": {
    "colab_type": "text",
    "id": "Ws_Fs64Kxn2F"
   },
   "source": [
    "We take the top 100 most important features to form a list. Then we further select the top 50 features based on the regression coefficient."
   ]
  },
  {
   "cell_type": "code",
   "execution_count": 0,
   "metadata": {
    "colab": {},
    "colab_type": "code",
    "id": "bLN3vJo6zbqg"
   },
   "outputs": [],
   "source": [
    "feature_list=sorted(list(zip(reg.coef_, Salaries_X_Train)),reverse=True)[0:100]"
   ]
  },
  {
   "cell_type": "code",
   "execution_count": 99,
   "metadata": {
    "colab": {
     "base_uri": "https://localhost:8080/",
     "height": 884
    },
    "colab_type": "code",
    "id": "KjBtSCBHQ_-3",
    "outputId": "043daf31-f724-448a-c31d-826cc38f6095"
   },
   "outputs": [
    {
     "data": {
      "text/plain": [
       "['Q3_United States of America',\n",
       " 'Q3_Switzerland',\n",
       " 'Q3_Israel',\n",
       " 'Q3_Australia',\n",
       " 'Q3_Denmark',\n",
       " 'Q6_Chief Officer',\n",
       " 'Q3_Canada',\n",
       " 'Q3_Singapore',\n",
       " 'Q3_Norway',\n",
       " 'Q8_30 +',\n",
       " 'Q25_20+ years',\n",
       " 'Q3_Hong Kong (S.A.R.)',\n",
       " 'Q3_Ireland',\n",
       " 'Q3_United Kingdom of Great Britain and Northern Ireland',\n",
       " 'Q37_TheSchool.AI',\n",
       " 'Q3_New Zealand',\n",
       " 'Q3_Germany',\n",
       " 'Q24_30-40 years',\n",
       " 'Q3_Netherlands',\n",
       " 'Q3_Austria',\n",
       " 'Q25_5-10 years',\n",
       " 'Q25_10-15 years',\n",
       " 'Q20_Prophet',\n",
       " 'Q3_Japan',\n",
       " 'Q8_20-25',\n",
       " 'Q25_4-5 years',\n",
       " 'Q24_10-20 years',\n",
       " 'Q3_Sweden',\n",
       " 'Q3_South Africa',\n",
       " 'Q3_France',\n",
       " 'Q6_Manager',\n",
       " 'Q18_Go',\n",
       " 'Q2_55-59',\n",
       " 'Q20_H20',\n",
       " 'Q25_2-3 years',\n",
       " 'Q10_We have well established ML methods (i.e., models in production for more than 2 years)',\n",
       " 'Q3_Belgium',\n",
       " 'Q3_South Korea',\n",
       " 'Q3_Finland',\n",
       " 'Q25_I have never studied machine learning but plan to learn in the future',\n",
       " 'Q25_3-4 years',\n",
       " 'Q2_45-49',\n",
       " 'Q25_< 1 year',\n",
       " 'Q3_China',\n",
       " 'Q3_I do not wish to disclose my location',\n",
       " 'Q8_25-30',\n",
       " 'Q24_5-10 years',\n",
       " 'Q7_Accounting/Finance',\n",
       " 'Q18_None',\n",
       " 'Q25_1-2 years',\n",
       " 'Q20_Caffe']"
      ]
     },
     "execution_count": 99,
     "metadata": {
      "tags": []
     },
     "output_type": "execute_result"
    }
   ],
   "source": [
    "features=[]\n",
    "for feature_comb in feature_list:\n",
    "  feature = feature_comb[1]\n",
    "  features.append(feature)\n",
    "features = features[0:51]\n",
    "features"
   ]
  },
  {
   "cell_type": "markdown",
   "metadata": {
    "colab_type": "text",
    "id": "5EC-gM7sx9wr"
   },
   "source": [
    "We generated a new dataframe by using the above 50 features (the top 50 most important features, found by the Lasso regression model)"
   ]
  },
  {
   "cell_type": "code",
   "execution_count": 100,
   "metadata": {
    "colab": {
     "base_uri": "https://localhost:8080/",
     "height": 377
    },
    "colab_type": "code",
    "id": "9l9f5TCeSrAc",
    "outputId": "599ffad1-f2da-4cbc-d91e-9bc64590df07"
   },
   "outputs": [
    {
     "data": {
      "text/html": [
       "<div>\n",
       "<style scoped>\n",
       "    .dataframe tbody tr th:only-of-type {\n",
       "        vertical-align: middle;\n",
       "    }\n",
       "\n",
       "    .dataframe tbody tr th {\n",
       "        vertical-align: top;\n",
       "    }\n",
       "\n",
       "    .dataframe thead th {\n",
       "        text-align: right;\n",
       "    }\n",
       "</style>\n",
       "<table border=\"1\" class=\"dataframe\">\n",
       "  <thead>\n",
       "    <tr style=\"text-align: right;\">\n",
       "      <th></th>\n",
       "      <th>Q3_United States of America</th>\n",
       "      <th>Q3_Switzerland</th>\n",
       "      <th>Q3_Israel</th>\n",
       "      <th>Q3_Australia</th>\n",
       "      <th>Q3_Denmark</th>\n",
       "      <th>Q6_Chief Officer</th>\n",
       "      <th>Q3_Canada</th>\n",
       "      <th>Q3_Singapore</th>\n",
       "      <th>Q3_Norway</th>\n",
       "      <th>Q8_30 +</th>\n",
       "      <th>Q25_20+ years</th>\n",
       "      <th>Q3_Hong Kong (S.A.R.)</th>\n",
       "      <th>Q3_Ireland</th>\n",
       "      <th>Q3_United Kingdom of Great Britain and Northern Ireland</th>\n",
       "      <th>Q37_TheSchool.AI</th>\n",
       "      <th>Q3_New Zealand</th>\n",
       "      <th>Q3_Germany</th>\n",
       "      <th>Q24_30-40 years</th>\n",
       "      <th>Q3_Netherlands</th>\n",
       "      <th>Q3_Austria</th>\n",
       "      <th>Q25_5-10 years</th>\n",
       "      <th>Q25_10-15 years</th>\n",
       "      <th>Q20_Prophet</th>\n",
       "      <th>Q3_Japan</th>\n",
       "      <th>Q8_20-25</th>\n",
       "      <th>Q25_4-5 years</th>\n",
       "      <th>Q24_10-20 years</th>\n",
       "      <th>Q3_Sweden</th>\n",
       "      <th>Q3_South Africa</th>\n",
       "      <th>Q3_France</th>\n",
       "      <th>Q6_Manager</th>\n",
       "      <th>Q18_Go</th>\n",
       "      <th>Q2_55-59</th>\n",
       "      <th>Q20_H20</th>\n",
       "      <th>Q25_2-3 years</th>\n",
       "      <th>Q10_We have well established ML methods (i.e., models in production for more than 2 years)</th>\n",
       "      <th>Q3_Belgium</th>\n",
       "      <th>Q3_South Korea</th>\n",
       "      <th>Q3_Finland</th>\n",
       "      <th>Q25_I have never studied machine learning but plan to learn in the future</th>\n",
       "      <th>Q25_3-4 years</th>\n",
       "      <th>Q2_45-49</th>\n",
       "      <th>Q25_&lt; 1 year</th>\n",
       "      <th>Q3_China</th>\n",
       "      <th>Q3_I do not wish to disclose my location</th>\n",
       "      <th>Q8_25-30</th>\n",
       "      <th>Q24_5-10 years</th>\n",
       "      <th>Q7_Accounting/Finance</th>\n",
       "      <th>Q18_None</th>\n",
       "      <th>Q25_1-2 years</th>\n",
       "      <th>Q20_Caffe</th>\n",
       "      <th>Q9</th>\n",
       "    </tr>\n",
       "  </thead>\n",
       "  <tbody>\n",
       "    <tr>\n",
       "      <th>2</th>\n",
       "      <td>0</td>\n",
       "      <td>0</td>\n",
       "      <td>0</td>\n",
       "      <td>0</td>\n",
       "      <td>0</td>\n",
       "      <td>0</td>\n",
       "      <td>0</td>\n",
       "      <td>0</td>\n",
       "      <td>0</td>\n",
       "      <td>0</td>\n",
       "      <td>0</td>\n",
       "      <td>0</td>\n",
       "      <td>0</td>\n",
       "      <td>0</td>\n",
       "      <td>0</td>\n",
       "      <td>0</td>\n",
       "      <td>0</td>\n",
       "      <td>0</td>\n",
       "      <td>0</td>\n",
       "      <td>0</td>\n",
       "      <td>0</td>\n",
       "      <td>0</td>\n",
       "      <td>0</td>\n",
       "      <td>0</td>\n",
       "      <td>0</td>\n",
       "      <td>0</td>\n",
       "      <td>0</td>\n",
       "      <td>0</td>\n",
       "      <td>0</td>\n",
       "      <td>0</td>\n",
       "      <td>0</td>\n",
       "      <td>0</td>\n",
       "      <td>0</td>\n",
       "      <td>0</td>\n",
       "      <td>0</td>\n",
       "      <td>0</td>\n",
       "      <td>0</td>\n",
       "      <td>0</td>\n",
       "      <td>0</td>\n",
       "      <td>1</td>\n",
       "      <td>0</td>\n",
       "      <td>0</td>\n",
       "      <td>0</td>\n",
       "      <td>0</td>\n",
       "      <td>0</td>\n",
       "      <td>0</td>\n",
       "      <td>0</td>\n",
       "      <td>0</td>\n",
       "      <td>0</td>\n",
       "      <td>0</td>\n",
       "      <td>0</td>\n",
       "      <td>15000.0</td>\n",
       "    </tr>\n",
       "    <tr>\n",
       "      <th>3</th>\n",
       "      <td>1</td>\n",
       "      <td>0</td>\n",
       "      <td>0</td>\n",
       "      <td>0</td>\n",
       "      <td>0</td>\n",
       "      <td>0</td>\n",
       "      <td>0</td>\n",
       "      <td>0</td>\n",
       "      <td>0</td>\n",
       "      <td>0</td>\n",
       "      <td>0</td>\n",
       "      <td>0</td>\n",
       "      <td>0</td>\n",
       "      <td>0</td>\n",
       "      <td>0</td>\n",
       "      <td>0</td>\n",
       "      <td>0</td>\n",
       "      <td>0</td>\n",
       "      <td>0</td>\n",
       "      <td>0</td>\n",
       "      <td>0</td>\n",
       "      <td>0</td>\n",
       "      <td>0</td>\n",
       "      <td>0</td>\n",
       "      <td>0</td>\n",
       "      <td>0</td>\n",
       "      <td>0</td>\n",
       "      <td>0</td>\n",
       "      <td>0</td>\n",
       "      <td>0</td>\n",
       "      <td>0</td>\n",
       "      <td>0</td>\n",
       "      <td>0</td>\n",
       "      <td>0</td>\n",
       "      <td>0</td>\n",
       "      <td>0</td>\n",
       "      <td>0</td>\n",
       "      <td>0</td>\n",
       "      <td>0</td>\n",
       "      <td>0</td>\n",
       "      <td>0</td>\n",
       "      <td>0</td>\n",
       "      <td>1</td>\n",
       "      <td>0</td>\n",
       "      <td>0</td>\n",
       "      <td>0</td>\n",
       "      <td>1</td>\n",
       "      <td>0</td>\n",
       "      <td>0</td>\n",
       "      <td>0</td>\n",
       "      <td>0</td>\n",
       "      <td>5000.0</td>\n",
       "    </tr>\n",
       "    <tr>\n",
       "      <th>5</th>\n",
       "      <td>0</td>\n",
       "      <td>0</td>\n",
       "      <td>0</td>\n",
       "      <td>0</td>\n",
       "      <td>0</td>\n",
       "      <td>0</td>\n",
       "      <td>0</td>\n",
       "      <td>0</td>\n",
       "      <td>0</td>\n",
       "      <td>0</td>\n",
       "      <td>0</td>\n",
       "      <td>0</td>\n",
       "      <td>0</td>\n",
       "      <td>0</td>\n",
       "      <td>0</td>\n",
       "      <td>0</td>\n",
       "      <td>0</td>\n",
       "      <td>0</td>\n",
       "      <td>0</td>\n",
       "      <td>0</td>\n",
       "      <td>0</td>\n",
       "      <td>0</td>\n",
       "      <td>0</td>\n",
       "      <td>0</td>\n",
       "      <td>0</td>\n",
       "      <td>0</td>\n",
       "      <td>0</td>\n",
       "      <td>0</td>\n",
       "      <td>0</td>\n",
       "      <td>0</td>\n",
       "      <td>0</td>\n",
       "      <td>0</td>\n",
       "      <td>0</td>\n",
       "      <td>0</td>\n",
       "      <td>1</td>\n",
       "      <td>0</td>\n",
       "      <td>0</td>\n",
       "      <td>0</td>\n",
       "      <td>0</td>\n",
       "      <td>0</td>\n",
       "      <td>0</td>\n",
       "      <td>0</td>\n",
       "      <td>0</td>\n",
       "      <td>0</td>\n",
       "      <td>0</td>\n",
       "      <td>0</td>\n",
       "      <td>1</td>\n",
       "      <td>0</td>\n",
       "      <td>0</td>\n",
       "      <td>0</td>\n",
       "      <td>0</td>\n",
       "      <td>5000.0</td>\n",
       "    </tr>\n",
       "    <tr>\n",
       "      <th>7</th>\n",
       "      <td>0</td>\n",
       "      <td>0</td>\n",
       "      <td>0</td>\n",
       "      <td>0</td>\n",
       "      <td>0</td>\n",
       "      <td>0</td>\n",
       "      <td>0</td>\n",
       "      <td>0</td>\n",
       "      <td>0</td>\n",
       "      <td>0</td>\n",
       "      <td>0</td>\n",
       "      <td>0</td>\n",
       "      <td>0</td>\n",
       "      <td>0</td>\n",
       "      <td>0</td>\n",
       "      <td>0</td>\n",
       "      <td>0</td>\n",
       "      <td>0</td>\n",
       "      <td>0</td>\n",
       "      <td>0</td>\n",
       "      <td>0</td>\n",
       "      <td>0</td>\n",
       "      <td>0</td>\n",
       "      <td>0</td>\n",
       "      <td>0</td>\n",
       "      <td>0</td>\n",
       "      <td>0</td>\n",
       "      <td>0</td>\n",
       "      <td>0</td>\n",
       "      <td>0</td>\n",
       "      <td>0</td>\n",
       "      <td>0</td>\n",
       "      <td>0</td>\n",
       "      <td>0</td>\n",
       "      <td>0</td>\n",
       "      <td>0</td>\n",
       "      <td>0</td>\n",
       "      <td>0</td>\n",
       "      <td>0</td>\n",
       "      <td>0</td>\n",
       "      <td>0</td>\n",
       "      <td>0</td>\n",
       "      <td>1</td>\n",
       "      <td>0</td>\n",
       "      <td>0</td>\n",
       "      <td>0</td>\n",
       "      <td>0</td>\n",
       "      <td>0</td>\n",
       "      <td>0</td>\n",
       "      <td>0</td>\n",
       "      <td>0</td>\n",
       "      <td>15000.0</td>\n",
       "    </tr>\n",
       "    <tr>\n",
       "      <th>8</th>\n",
       "      <td>0</td>\n",
       "      <td>0</td>\n",
       "      <td>0</td>\n",
       "      <td>0</td>\n",
       "      <td>0</td>\n",
       "      <td>0</td>\n",
       "      <td>0</td>\n",
       "      <td>0</td>\n",
       "      <td>0</td>\n",
       "      <td>0</td>\n",
       "      <td>0</td>\n",
       "      <td>0</td>\n",
       "      <td>0</td>\n",
       "      <td>0</td>\n",
       "      <td>0</td>\n",
       "      <td>0</td>\n",
       "      <td>0</td>\n",
       "      <td>0</td>\n",
       "      <td>0</td>\n",
       "      <td>0</td>\n",
       "      <td>0</td>\n",
       "      <td>0</td>\n",
       "      <td>0</td>\n",
       "      <td>0</td>\n",
       "      <td>0</td>\n",
       "      <td>0</td>\n",
       "      <td>0</td>\n",
       "      <td>0</td>\n",
       "      <td>0</td>\n",
       "      <td>0</td>\n",
       "      <td>0</td>\n",
       "      <td>0</td>\n",
       "      <td>0</td>\n",
       "      <td>0</td>\n",
       "      <td>0</td>\n",
       "      <td>0</td>\n",
       "      <td>0</td>\n",
       "      <td>0</td>\n",
       "      <td>0</td>\n",
       "      <td>0</td>\n",
       "      <td>0</td>\n",
       "      <td>0</td>\n",
       "      <td>1</td>\n",
       "      <td>0</td>\n",
       "      <td>0</td>\n",
       "      <td>0</td>\n",
       "      <td>0</td>\n",
       "      <td>0</td>\n",
       "      <td>0</td>\n",
       "      <td>0</td>\n",
       "      <td>0</td>\n",
       "      <td>5000.0</td>\n",
       "    </tr>\n",
       "  </tbody>\n",
       "</table>\n",
       "</div>"
      ],
      "text/plain": [
       "   Q3_United States of America  Q3_Switzerland  ...  Q20_Caffe       Q9\n",
       "2                            0               0  ...          0  15000.0\n",
       "3                            1               0  ...          0   5000.0\n",
       "5                            0               0  ...          0   5000.0\n",
       "7                            0               0  ...          0  15000.0\n",
       "8                            0               0  ...          0   5000.0\n",
       "\n",
       "[5 rows x 52 columns]"
      ]
     },
     "execution_count": 100,
     "metadata": {
      "tags": []
     },
     "output_type": "execute_result"
    }
   ],
   "source": [
    "NewDF = DF[[feature for feature in features]]\n",
    "NewDF[\"Q9\"]=DF[\"Q9\"].values\n",
    "NewDF.head()"
   ]
  },
  {
   "cell_type": "markdown",
   "metadata": {
    "colab_type": "text",
    "id": "zzj11GG7GEYy"
   },
   "source": [
    "# **4. Model implementation**"
   ]
  },
  {
   "cell_type": "markdown",
   "metadata": {
    "colab_type": "text",
    "id": "7aIc6Lb6yi55"
   },
   "source": [
    "## **(1).Apply logistic regression algorithm.**"
   ]
  },
  {
   "cell_type": "markdown",
   "metadata": {
    "colab_type": "text",
    "id": "lpcmLLzWzqvT"
   },
   "source": [
    "Firstly we split the data from above section into training data and testing data. Then we target the training data and split it into validation set and training set. We use logistic regression model to the training set then test in the validation set, using 10-fold cross-validation."
   ]
  },
  {
   "cell_type": "code",
   "execution_count": 0,
   "metadata": {
    "colab": {},
    "colab_type": "code",
    "id": "SiPPCuA_LVJE"
   },
   "outputs": [],
   "source": [
    "trainDF, testDF = train_test_split(NewDF, test_size=0.3) #Separate new dataframe into trainDF and testDF"
   ]
  },
  {
   "cell_type": "code",
   "execution_count": 0,
   "metadata": {
    "colab": {},
    "colab_type": "code",
    "id": "4bk5gj3HGPzh"
   },
   "outputs": [],
   "source": [
    "def plot_learning_curve(estimator, title, X, y, ylim=None, cv=None, n_jobs=1,\\\n",
    "                        train_sizes=np.linspace(.1, 1.0, 5), scoring='accuracy'):\n",
    "    \n",
    "    plt.figure(figsize=(10,6))\n",
    "    plt.title(title)\n",
    "    \n",
    "    if ylim is not None:\n",
    "        plt.ylim(*ylim)\n",
    "        \n",
    "    plt.xlabel(\"Training examples\")\n",
    "    plt.ylabel(scoring)\n",
    "    \n",
    "    train_sizes, train_scores, test_scores = learning_curve(estimator, X, y, cv=cv, scoring=scoring, n_jobs=n_jobs, train_sizes=train_sizes)\n",
    "    train_scores_mean = np.mean(train_scores, axis=1)\n",
    "    train_scores_std = np.std(train_scores, axis=1)\n",
    "    test_scores_mean = np.mean(test_scores, axis=1)\n",
    "    test_scores_std = np.std(test_scores, axis=1)\n",
    "    \n",
    "    plt.grid()\n",
    "\n",
    "    plt.fill_between(train_sizes, train_scores_mean - train_scores_std,\\\n",
    "                     train_scores_mean + train_scores_std, alpha=0.1, \\\n",
    "                     color=\"r\")\n",
    "    plt.fill_between(train_sizes, test_scores_mean - test_scores_std,\\\n",
    "                     test_scores_mean + test_scores_std, alpha=0.1, color=\"g\")\n",
    "    \n",
    "    plt.plot(train_sizes, train_scores_mean, 'o-', color=\"r\",label=\"Training score\")\n",
    "    plt.plot(train_sizes, test_scores_mean, 'o-', color=\"g\", label=\"Cross-validation score\")\n",
    "    plt.legend(loc=\"best\")\n",
    "    \n",
    "    return plt"
   ]
  },
  {
   "cell_type": "code",
   "execution_count": 0,
   "metadata": {
    "colab": {},
    "colab_type": "code",
    "id": "eo9_3wNQHQ-_"
   },
   "outputs": [],
   "source": [
    "X = trainDF.drop(['Q9'],axis=1)\n",
    "y = trainDF['Q9']\n",
    "\n",
    "X_train, X_test, y_train, y_test = train_test_split(X, y, random_state=42, test_size=0.3)"
   ]
  },
  {
   "cell_type": "code",
   "execution_count": 0,
   "metadata": {
    "colab": {},
    "colab_type": "code",
    "id": "MP3hMgsEKHqr"
   },
   "outputs": [],
   "source": [
    "scaler = StandardScaler()\n",
    "\n",
    "X_train = scaler.fit_transform(X_train)\n",
    "X_test = scaler.transform(X_test)"
   ]
  },
  {
   "cell_type": "code",
   "execution_count": 0,
   "metadata": {
    "colab": {},
    "colab_type": "code",
    "id": "0pX3FkRiKOPz"
   },
   "outputs": [],
   "source": [
    "import warnings\n",
    "#warnings.filterwarnings(\"ignore\", category=ConvergenceWarning)\n",
    "warnings.filterwarnings(\"ignore\")"
   ]
  },
  {
   "cell_type": "code",
   "execution_count": 106,
   "metadata": {
    "colab": {
     "base_uri": "https://localhost:8080/",
     "height": 102
    },
    "colab_type": "code",
    "id": "C3AIpfMlKPKi",
    "outputId": "78b36c27-4e8b-4aa8-9b38-f2fe6d99c7ee"
   },
   "outputs": [
    {
     "data": {
      "text/plain": [
       "LogisticRegression(C=1.0, class_weight=None, dual=False, fit_intercept=True,\n",
       "                   intercept_scaling=1, l1_ratio=None, max_iter=100,\n",
       "                   multi_class='warn', n_jobs=None, penalty='l2',\n",
       "                   random_state=None, solver='warn', tol=0.0001, verbose=0,\n",
       "                   warm_start=False)"
      ]
     },
     "execution_count": 106,
     "metadata": {
      "tags": []
     },
     "output_type": "execute_result"
    }
   ],
   "source": [
    "model = LogisticRegression()    \n",
    "model.fit(X_train, y_train)"
   ]
  },
  {
   "cell_type": "markdown",
   "metadata": {
    "colab_type": "text",
    "id": "zk6WN5wJg4oE"
   },
   "source": [
    "## **(2).Validate model: Get accuracy of model on testing set**"
   ]
  },
  {
   "cell_type": "markdown",
   "metadata": {
    "colab_type": "text",
    "id": "Nl3nmIra0rUY"
   },
   "source": [
    "We can now use the model that we created to make predictions on the testing set we created earlier."
   ]
  },
  {
   "cell_type": "code",
   "execution_count": 107,
   "metadata": {
    "colab": {
     "base_uri": "https://localhost:8080/",
     "height": 34
    },
    "colab_type": "code",
    "id": "OTlLa8ILKqTz",
    "outputId": "1b7084e4-e7e7-4242-ceb5-25a5ec263919"
   },
   "outputs": [
    {
     "name": "stdout",
     "output_type": "stream",
     "text": [
      "This model got an accuracy of 70.79% on the testing set\n"
     ]
    }
   ],
   "source": [
    "predictions = model.predict(X_test)\n",
    "    \n",
    "TN = confusion_matrix(y_test, predictions)[0][0]\n",
    "FP = confusion_matrix(y_test, predictions)[0][1]\n",
    "FN = confusion_matrix(y_test, predictions)[1][0]\n",
    "TP = confusion_matrix(y_test, predictions)[1][1]\n",
    "total = TN + FP + FN + TP\n",
    "ACC = (TP + TN) / float(total)\n",
    "\n",
    "print (\"This model got an accuracy of {}% on the testing set\".format(round(ACC*100,2)))   "
   ]
  },
  {
   "cell_type": "markdown",
   "metadata": {
    "colab_type": "text",
    "id": "rqDGQyo6hHnT"
   },
   "source": [
    "## **(3).Evaluation: Cross Validation**"
   ]
  },
  {
   "cell_type": "code",
   "execution_count": 108,
   "metadata": {
    "colab": {
     "base_uri": "https://localhost:8080/",
     "height": 204
    },
    "colab_type": "code",
    "id": "_0L0Nni5KxmB",
    "outputId": "5572c0f0-7219-41cc-ce60-dd86c7b2369c"
   },
   "outputs": [
    {
     "name": "stdout",
     "output_type": "stream",
     "text": [
      "Fold 1: Accuracy: 0.718%\n",
      "Fold 2: Accuracy: 0.702%\n",
      "Fold 3: Accuracy: 0.76%\n",
      "Fold 4: Accuracy: 0.725%\n",
      "Fold 5: Accuracy: 0.697%\n",
      "Fold 6: Accuracy: 0.702%\n",
      "Fold 7: Accuracy: 0.709%\n",
      "Fold 8: Accuracy: 0.704%\n",
      "Fold 9: Accuracy: 0.697%\n",
      "Fold 10: Accuracy: 0.668%\n",
      "Average Score: 70.828%(2.241%)\n"
     ]
    }
   ],
   "source": [
    "model = LogisticRegression()\n",
    "scaler = StandardScaler()\n",
    "kfold = KFold(n_splits=10)\n",
    "kfold.get_n_splits(X)\n",
    "\n",
    "accuracy = np.zeros(10)\n",
    "np_idx = 0\n",
    "\n",
    "for train_idx, test_idx in kfold.split(X):\n",
    "    X_train, X_test = X.values[train_idx], X.values[test_idx]\n",
    "    y_train, y_test = y.values[train_idx], y.values[test_idx]\n",
    "    \n",
    "    X_train = scaler.fit_transform(X_train)\n",
    "    X_test = scaler.transform(X_test)\n",
    "    \n",
    "    model.fit(X_train, y_train)\n",
    "    \n",
    "    predictions = model.predict(X_test)\n",
    "    \n",
    "    TN = confusion_matrix(y_test, predictions)[0][0]\n",
    "    FP = confusion_matrix(y_test, predictions)[0][1]\n",
    "    FN = confusion_matrix(y_test, predictions)[1][0]\n",
    "    TP = confusion_matrix(y_test, predictions)[1][1]\n",
    "    total = TN + FP + FN + TP\n",
    "    ACC = (TP + TN) / float(total)\n",
    "    \n",
    "    accuracy[np_idx] = ACC*100\n",
    "    np_idx += 1\n",
    "    \n",
    "    print (\"Fold {}: Accuracy: {}%\".format(np_idx, round(ACC,3)))   \n",
    "\n",
    "print (\"Average Score: {}%({}%)\".format(round(np.mean(accuracy),3),round(np.std(accuracy),3)))"
   ]
  },
  {
   "cell_type": "markdown",
   "metadata": {
    "colab_type": "text",
    "id": "gN4CMmVr1DaR"
   },
   "source": [
    "We can see the model average accuracy and standard deviation above. The accuracies across the folds are close. They are around 70%."
   ]
  },
  {
   "cell_type": "markdown",
   "metadata": {
    "colab_type": "text",
    "id": "Tf8737NyhbgT"
   },
   "source": [
    "The default hyperparameters are C=1.0 and solver='warn'. We try to tune one hyperparameter. Let's select C=0.001 and solver is still \"warn\". Based on the 10-fold cross validation, we see that the accuracy drops a little bit. Therefore the above model performs better. This is because λ = 1/C. If C is smaller, λ increases. When λ increases, the optimization Gradient Descent will have to further reduce the values of weight to reduce the value of product. Thus, greater is the value of λ, smaller will be the weights and smaller will be the importance of the feature leading to greater variance."
   ]
  },
  {
   "cell_type": "code",
   "execution_count": 109,
   "metadata": {
    "colab": {
     "base_uri": "https://localhost:8080/",
     "height": 204
    },
    "colab_type": "code",
    "id": "ObwHTJhqX6Ll",
    "outputId": "4bef5f98-fc73-488d-c00e-d88bb64c6819"
   },
   "outputs": [
    {
     "name": "stdout",
     "output_type": "stream",
     "text": [
      "Fold 1: Accuracy: 0.713%\n",
      "Fold 2: Accuracy: 0.704%\n",
      "Fold 3: Accuracy: 0.737%\n",
      "Fold 4: Accuracy: 0.719%\n",
      "Fold 5: Accuracy: 0.701%\n",
      "Fold 6: Accuracy: 0.7%\n",
      "Fold 7: Accuracy: 0.708%\n",
      "Fold 8: Accuracy: 0.683%\n",
      "Fold 9: Accuracy: 0.694%\n",
      "Fold 10: Accuracy: 0.675%\n",
      "Average Score: 70.338%(1.676%)\n"
     ]
    }
   ],
   "source": [
    "model = LogisticRegression(C=0.001, solver='warn')\n",
    "accuracy = np.zeros(10)\n",
    "np_idx = 0\n",
    "for train_idx, test_idx in kfold.split(X):\n",
    "    X_train, X_test = X.values[train_idx], X.values[test_idx]\n",
    "    y_train, y_test = y.values[train_idx], y.values[test_idx]\n",
    "    \n",
    "    X_train = scaler.fit_transform(X_train)\n",
    "    X_test = scaler.transform(X_test)\n",
    "    \n",
    "    model.fit(X_train, y_train)\n",
    "    \n",
    "    predictions = model.predict(X_test)\n",
    "    \n",
    "    TN = confusion_matrix(y_test, predictions)[0][0]\n",
    "    FP = confusion_matrix(y_test, predictions)[0][1]\n",
    "    FN = confusion_matrix(y_test, predictions)[1][0]\n",
    "    TP = confusion_matrix(y_test, predictions)[1][1]\n",
    "    total = TN + FP + FN + TP\n",
    "    ACC = (TP + TN) / float(total)\n",
    "    \n",
    "    accuracy[np_idx] = ACC*100\n",
    "    np_idx += 1\n",
    "    \n",
    "    print (\"Fold {}: Accuracy: {}%\".format(np_idx, round(ACC,3)))   \n",
    "\n",
    "print (\"Average Score: {}%({}%)\".format(round(np.mean(accuracy),3),round(np.std(accuracy),3)))"
   ]
  },
  {
   "cell_type": "markdown",
   "metadata": {
    "colab_type": "text",
    "id": "VwaDEsyAj-xq"
   },
   "source": [
    "# **5.Hyperparameter tuning**"
   ]
  },
  {
   "cell_type": "markdown",
   "metadata": {
    "colab_type": "text",
    "id": "479sCJeIAfh8"
   },
   "source": [
    "The optimal model is given by the hyperparameter C and solver shown below. The best score and variance are also shown below. We use accuracy, which is the number of correct predictions made by the model over all kinds predictions made. It is easily suited for binary as well as a multiclass classification problem. Also accuracy is a good measure when the target variable classes in the data are well balanced. In our case, there are lots of classes and most of these classes are pretty balanced (except for the class: yearly compensation of 5000)."
   ]
  },
  {
   "cell_type": "code",
   "execution_count": 110,
   "metadata": {
    "colab": {
     "base_uri": "https://localhost:8080/",
     "height": 85
    },
    "colab_type": "code",
    "id": "VAfvxRoIkBQQ",
    "outputId": "6b5ec012-6c31-4806-e317-b81a65e6b37c"
   },
   "outputs": [
    {
     "name": "stdout",
     "output_type": "stream",
     "text": [
      "{'C': 0.05, 'solver': 'liblinear'}\n",
      "Best Score: 70.934%(2.315%)\n",
      "\n",
      "The optimal log model uses C=0.05, and a liblinear solver, and has a cross validation score of 70.934% with a standard deviation of 2.315%\n"
     ]
    }
   ],
   "source": [
    "model = LogisticRegression()\n",
    "scaler = StandardScaler()\n",
    "kfold = KFold(n_splits=10)\n",
    "kfold.get_n_splits(X)\n",
    "\n",
    "best_model = model\n",
    "best_params = {}\n",
    "best_accuracy = 0\n",
    "best_std = 0\n",
    "\n",
    "for C in [0.001,0.01,0.05,0.1,0.5,1,5,10, 100]:\n",
    "    for solver in ['newton-cg','lbfgs','liblinear','sag']:\n",
    "        \n",
    "        model = LogisticRegression(C=C, solver=solver)\n",
    "        accuracy = np.zeros(10)\n",
    "        np_idx = 0\n",
    "        \n",
    "        for train_idx, test_idx in kfold.split(X):\n",
    "            X_train, X_test = X.values[train_idx], X.values[test_idx]\n",
    "            y_train, y_test = y.values[train_idx], y.values[test_idx]\n",
    "\n",
    "            X_train = scaler.fit_transform(X_train)\n",
    "            X_test = scaler.transform(X_test)\n",
    "\n",
    "            model.fit(X_train, y_train)\n",
    "\n",
    "            predictions = model.predict(X_test)\n",
    "\n",
    "            TN = confusion_matrix(y_test, predictions)[0][0]\n",
    "            FP = confusion_matrix(y_test, predictions)[0][1]\n",
    "            FN = confusion_matrix(y_test, predictions)[1][0]\n",
    "            TP = confusion_matrix(y_test, predictions)[1][1]\n",
    "            total = TN + FP + FN + TP\n",
    "            ACC = (TP + TN) / float(total)\n",
    "\n",
    "            accuracy[np_idx] = ACC*100\n",
    "            np_idx += 1\n",
    "        \n",
    "        if np.mean(accuracy) > best_accuracy:\n",
    "            best_model = model\n",
    "            best_params = {'C':C, 'solver':solver}\n",
    "            best_accuracy = np.mean(accuracy)\n",
    "            best_std = np.std(accuracy)\n",
    "\n",
    "print (best_params)\n",
    "print (\"Best Score: {}%({}%)\".format(round(best_accuracy,3),round(best_std,3)))      \n",
    "\n",
    "print (\"\\nThe optimal log model uses C={}, and a {} solver, and has a cross validation score of {}% with a standard deviation of {}%\".format(best_params['C'],best_params['solver'],round(best_accuracy,3),round(best_std,3)))"
   ]
  },
  {
   "cell_type": "markdown",
   "metadata": {
    "colab_type": "text",
    "id": "EOC9oZespphz"
   },
   "source": [
    "# **6. Testing & Discussion**"
   ]
  },
  {
   "cell_type": "code",
   "execution_count": 140,
   "metadata": {
    "colab": {
     "base_uri": "https://localhost:8080/",
     "height": 102
    },
    "colab_type": "code",
    "id": "h8VCvEOjspYr",
    "outputId": "3dcc30f3-6899-42d2-c626-899d81740304"
   },
   "outputs": [
    {
     "data": {
      "text/plain": [
       "LogisticRegression(C=0.05, class_weight=None, dual=False, fit_intercept=True,\n",
       "                   intercept_scaling=1, l1_ratio=None, max_iter=100,\n",
       "                   multi_class='warn', n_jobs=None, penalty='l2',\n",
       "                   random_state=None, solver='liblinear', tol=0.0001, verbose=0,\n",
       "                   warm_start=False)"
      ]
     },
     "execution_count": 140,
     "metadata": {
      "tags": []
     },
     "output_type": "execute_result"
    }
   ],
   "source": [
    "model = LogisticRegression(C=best_params['C'],solver=best_params['solver'])\n",
    "scaler = StandardScaler()\n",
    "\n",
    "X_train = trainDF.drop(['Q9'],axis=1)\n",
    "y_train = trainDF['Q9']\n",
    "\n",
    "X_train = scaler.fit_transform(X_train)\n",
    "X_testdata = scaler.transform(X_train)\n",
    "\n",
    "X_testdata = testDF.drop(['Q9'],axis=1)\n",
    "y_testdata = testDF[\"Q9\"]\n",
    "model.fit(X_train, y_train)"
   ]
  },
  {
   "cell_type": "code",
   "execution_count": 141,
   "metadata": {
    "colab": {
     "base_uri": "https://localhost:8080/",
     "height": 34
    },
    "colab_type": "code",
    "id": "floB9FV2AwI1",
    "outputId": "3255413a-016d-4846-bb4b-76b9a7910108"
   },
   "outputs": [
    {
     "name": "stdout",
     "output_type": "stream",
     "text": [
      "This model got an accuracy of 71.25% on the training data\n"
     ]
    }
   ],
   "source": [
    "y_train_pred = model.predict(X_train)\n",
    "    \n",
    "TN = confusion_matrix(y_train, y_train_pred)[0][0]\n",
    "FP = confusion_matrix(y_train, y_train_pred)[0][1]\n",
    "FN = confusion_matrix(y_train, y_train_pred)[1][0]\n",
    "TP = confusion_matrix(y_train, y_train_pred)[1][1]\n",
    "total = TN + FP + FN + TP\n",
    "ACC = (TP + TN) / float(total)\n",
    "\n",
    "print (\"This model got an accuracy of {}% on the training data\".format(round(ACC*100,2)))"
   ]
  },
  {
   "cell_type": "code",
   "execution_count": 144,
   "metadata": {
    "colab": {
     "base_uri": "https://localhost:8080/",
     "height": 34
    },
    "colab_type": "code",
    "id": "xWpDIa2FIItV",
    "outputId": "68c7aed3-c3dd-4512-b739-835ecf6585a6"
   },
   "outputs": [
    {
     "name": "stdout",
     "output_type": "stream",
     "text": [
      "This model got an accuracy of 70.82% on the testing data\n"
     ]
    }
   ],
   "source": [
    "y_test_pred = model.predict(X_testdata)\n",
    "    \n",
    "TN = confusion_matrix(y_testdata, y_test_pred)[0][0]\n",
    "FP = confusion_matrix(y_testdata, y_test_pred)[0][1]\n",
    "FN = confusion_matrix(y_testdata, y_test_pred)[1][0]\n",
    "TP = confusion_matrix(y_testdata, y_test_pred)[1][1]\n",
    "total = TN + FP + FN + TP\n",
    "ACC = (TP + TN) / float(total)\n",
    "\n",
    "print (\"This model got an accuracy of {}% on the testing data\".format(round(ACC*100,2)))"
   ]
  },
  {
   "cell_type": "code",
   "execution_count": 148,
   "metadata": {
    "colab": {
     "base_uri": "https://localhost:8080/",
     "height": 421
    },
    "colab_type": "code",
    "id": "j-4O-TMh4hlE",
    "outputId": "4bc12701-8091-4ba9-c153-9371d3a03eb6"
   },
   "outputs": [
    {
     "data": {
      "text/plain": [
       "<module 'matplotlib.pyplot' from '/usr/local/lib/python3.6/dist-packages/matplotlib/pyplot.py'>"
      ]
     },
     "execution_count": 148,
     "metadata": {
      "tags": []
     },
     "output_type": "execute_result"
    },
    {
     "data": {
      "image/png": "[encoded data removed]",
      "text/plain": [
       "<Figure size 720x432 with 1 Axes>"
      ]
     },
     "metadata": {
      "tags": []
     },
     "output_type": "display_data"
    }
   ],
   "source": [
    "plot_learning_curve(model,'Logistic Regression', X_train, y_train, cv=10)"
   ]
  },
  {
   "cell_type": "markdown",
   "metadata": {
    "colab_type": "text",
    "id": "99HzBMl-CBRH"
   },
   "source": [
    "After using the optimal model generated from step 5 Model tuning, we apply the model to the testing dataset which we split at the begining of step 4. The test set accuracy is 70.82% while the training set accuracy is 71.25%. The training set accuracy is slightly higher. In order to increase the accuracy, we can try to include more features(currently 50). Additionally, we can do more feature Scaling and/or Normalization. The training and validation accuracy seem to go in parallel. Therefore, it is not overfitting. The model might be underfitting,so we might try to increase the complexity of the model."
   ]
  }
 ],
 "metadata": {
  "colab": {
   "name": "MIE1624-Assignment 1-Junxi Xu.ipynb",
   "provenance": []
  },
  "kernelspec": {
   "display_name": "Python 3",
   "language": "python",
   "name": "python3"
  },
  "language_info": {
   "codemirror_mode": {
    "name": "ipython",
    "version": 3
   },
   "file_extension": ".py",
   "mimetype": "text/x-python",
   "name": "python",
   "nbconvert_exporter": "python",
   "pygments_lexer": "ipython3",
   "version": "3.7.4"
  }
 },
 "nbformat": 4,
 "nbformat_minor": 1
}
